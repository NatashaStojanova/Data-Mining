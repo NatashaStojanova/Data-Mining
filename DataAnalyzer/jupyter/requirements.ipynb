{
 "cells": [
  {
   "cell_type": "code",
   "execution_count": 2,
   "metadata": {
    "pycharm": {
     "is_executing": true,
     "name": "#%%\n"
    }
   },
   "outputs": [
    {
     "name": "stdout",
     "output_type": "stream",
     "text": [
      "Requirement already satisfied: numpy in d:\\anaconda\\anaconda3\\envs\\stan_env\\lib\\site-packages (1.19.1)\n",
      "Requirement already satisfied: matplotlib in d:\\anaconda\\anaconda3\\envs\\stan_env\\lib\\site-packages (3.3.1)\n",
      "Requirement already satisfied: python-dateutil>=2.1 in d:\\anaconda\\anaconda3\\envs\\stan_env\\lib\\site-packages (from matplotlib) (2.8.1)\n",
      "Requirement already satisfied: numpy>=1.15 in d:\\anaconda\\anaconda3\\envs\\stan_env\\lib\\site-packages (from matplotlib) (1.19.1)\n",
      "Requirement already satisfied: pillow>=6.2.0 in d:\\anaconda\\anaconda3\\envs\\stan_env\\lib\\site-packages (from matplotlib) (7.2.0)\n",
      "Requirement already satisfied: certifi>=2020.06.20 in d:\\anaconda\\anaconda3\\envs\\stan_env\\lib\\site-packages (from matplotlib) (2020.6.20)\n",
      "Requirement already satisfied: cycler>=0.10 in d:\\anaconda\\anaconda3\\envs\\stan_env\\lib\\site-packages (from matplotlib) (0.10.0)\n",
      "Requirement already satisfied: kiwisolver>=1.0.1 in d:\\anaconda\\anaconda3\\envs\\stan_env\\lib\\site-packages (from matplotlib) (1.2.0)\n",
      "Requirement already satisfied: pyparsing!=2.0.4,!=2.1.2,!=2.1.6,>=2.0.3 in d:\\anaconda\\anaconda3\\envs\\stan_env\\lib\\site-packages (from matplotlib) (2.4.7)\n",
      "Requirement already satisfied: six>=1.5 in d:\\anaconda\\anaconda3\\envs\\stan_env\\lib\\site-packages (from python-dateutil>=2.1->matplotlib) (1.15.0)\n",
      "Requirement already satisfied: plotly in d:\\anaconda\\anaconda3\\envs\\stan_env\\lib\\site-packages (4.9.0)\n",
      "Requirement already satisfied: retrying>=1.3.3 in d:\\anaconda\\anaconda3\\envs\\stan_env\\lib\\site-packages (from plotly) (1.3.3)\n",
      "Requirement already satisfied: six in d:\\anaconda\\anaconda3\\envs\\stan_env\\lib\\site-packages (from plotly) (1.15.0)\n",
      "Requirement already satisfied: folium in d:\\anaconda\\anaconda3\\envs\\stan_env\\lib\\site-packages (0.11.0)\n",
      "Requirement already satisfied: branca>=0.3.0 in d:\\anaconda\\anaconda3\\envs\\stan_env\\lib\\site-packages (from folium) (0.4.1)\n",
      "Requirement already satisfied: jinja2>=2.9 in d:\\anaconda\\anaconda3\\envs\\stan_env\\lib\\site-packages (from folium) (2.11.2)\n",
      "Requirement already satisfied: requests in d:\\anaconda\\anaconda3\\envs\\stan_env\\lib\\site-packages (from folium) (2.24.0)\n",
      "Requirement already satisfied: numpy in d:\\anaconda\\anaconda3\\envs\\stan_env\\lib\\site-packages (from folium) (1.19.1)\n",
      "Requirement already satisfied: MarkupSafe>=0.23 in d:\\anaconda\\anaconda3\\envs\\stan_env\\lib\\site-packages (from jinja2>=2.9->folium) (1.1.1)\n",
      "Requirement already satisfied: urllib3!=1.25.0,!=1.25.1,<1.26,>=1.21.1 in d:\\anaconda\\anaconda3\\envs\\stan_env\\lib\\site-packages (from requests->folium) (1.25.10)\n",
      "Requirement already satisfied: certifi>=2017.4.17 in d:\\anaconda\\anaconda3\\envs\\stan_env\\lib\\site-packages (from requests->folium) (2020.6.20)\n",
      "Requirement already satisfied: idna<3,>=2.5 in d:\\anaconda\\anaconda3\\envs\\stan_env\\lib\\site-packages (from requests->folium) (2.10)\n",
      "Requirement already satisfied: chardet<4,>=3.0.2 in d:\\anaconda\\anaconda3\\envs\\stan_env\\lib\\site-packages (from requests->folium) (3.0.4)\n",
      "Requirement already satisfied: seaborn in d:\\anaconda\\anaconda3\\envs\\stan_env\\lib\\site-packages (0.10.1)\n",
      "Requirement already satisfied: scipy>=1.0.1 in d:\\anaconda\\anaconda3\\envs\\stan_env\\lib\\site-packages (from seaborn) (1.5.2)\n",
      "Requirement already satisfied: numpy>=1.13.3 in d:\\anaconda\\anaconda3\\envs\\stan_env\\lib\\site-packages (from seaborn) (1.19.1)\n",
      "Requirement already satisfied: pandas>=0.22.0 in d:\\anaconda\\anaconda3\\envs\\stan_env\\lib\\site-packages (from seaborn) (1.1.1)\n",
      "Requirement already satisfied: matplotlib>=2.1.2 in d:\\anaconda\\anaconda3\\envs\\stan_env\\lib\\site-packages (from seaborn) (3.3.1)\n",
      "Requirement already satisfied: python-dateutil>=2.7.3 in d:\\anaconda\\anaconda3\\envs\\stan_env\\lib\\site-packages (from pandas>=0.22.0->seaborn) (2.8.1)\n",
      "Requirement already satisfied: pytz>=2017.2 in d:\\anaconda\\anaconda3\\envs\\stan_env\\lib\\site-packages (from pandas>=0.22.0->seaborn) (2020.1)\n",
      "Requirement already satisfied: pillow>=6.2.0 in d:\\anaconda\\anaconda3\\envs\\stan_env\\lib\\site-packages (from matplotlib>=2.1.2->seaborn) (7.2.0)\n",
      "Requirement already satisfied: pyparsing!=2.0.4,!=2.1.2,!=2.1.6,>=2.0.3 in d:\\anaconda\\anaconda3\\envs\\stan_env\\lib\\site-packages (from matplotlib>=2.1.2->seaborn) (2.4.7)\n",
      "Requirement already satisfied: certifi>=2020.06.20 in d:\\anaconda\\anaconda3\\envs\\stan_env\\lib\\site-packages (from matplotlib>=2.1.2->seaborn) (2020.6.20)\n",
      "Requirement already satisfied: kiwisolver>=1.0.1 in d:\\anaconda\\anaconda3\\envs\\stan_env\\lib\\site-packages (from matplotlib>=2.1.2->seaborn) (1.2.0)\n",
      "Requirement already satisfied: cycler>=0.10 in d:\\anaconda\\anaconda3\\envs\\stan_env\\lib\\site-packages (from matplotlib>=2.1.2->seaborn) (0.10.0)\n",
      "Requirement already satisfied: six>=1.5 in d:\\anaconda\\anaconda3\\envs\\stan_env\\lib\\site-packages (from python-dateutil>=2.7.3->pandas>=0.22.0->seaborn) (1.15.0)\n",
      "Requirement already satisfied: pystan in d:\\anaconda\\anaconda3\\envs\\stan_env\\lib\\site-packages (2.19.1.1)\n",
      "Requirement already satisfied: Cython!=0.25.1,>=0.22 in d:\\anaconda\\anaconda3\\envs\\stan_env\\lib\\site-packages (from pystan) (0.29.21)\n",
      "Requirement already satisfied: numpy>=1.7 in d:\\anaconda\\anaconda3\\envs\\stan_env\\lib\\site-packages (from pystan) (1.19.1)\n",
      "Requirement already satisfied: fbprophet in d:\\anaconda\\anaconda3\\envs\\stan_env\\lib\\site-packages (0.6)\n",
      "Requirement already satisfied: Cython>=0.22 in d:\\anaconda\\anaconda3\\envs\\stan_env\\lib\\site-packages (from fbprophet) (0.29.21)\n",
      "Requirement already satisfied: cmdstanpy==0.4 in d:\\anaconda\\anaconda3\\envs\\stan_env\\lib\\site-packages (from fbprophet) (0.4.0)\n",
      "Requirement already satisfied: pystan>=2.14 in d:\\anaconda\\anaconda3\\envs\\stan_env\\lib\\site-packages (from fbprophet) (2.19.1.1)\n",
      "Requirement already satisfied: numpy>=1.10.0 in d:\\anaconda\\anaconda3\\envs\\stan_env\\lib\\site-packages (from fbprophet) (1.19.1)\n",
      "Requirement already satisfied: pandas>=0.23.4 in d:\\anaconda\\anaconda3\\envs\\stan_env\\lib\\site-packages (from fbprophet) (1.1.1)\n",
      "Requirement already satisfied: matplotlib>=2.0.0 in d:\\anaconda\\anaconda3\\envs\\stan_env\\lib\\site-packages (from fbprophet) (3.3.1)\n",
      "Requirement already satisfied: LunarCalendar>=0.0.9 in d:\\anaconda\\anaconda3\\envs\\stan_env\\lib\\site-packages (from fbprophet) (0.0.9)\n",
      "Requirement already satisfied: convertdate>=2.1.2 in d:\\anaconda\\anaconda3\\envs\\stan_env\\lib\\site-packages (from fbprophet) (2.2.1)\n",
      "Requirement already satisfied: holidays>=0.9.5 in d:\\anaconda\\anaconda3\\envs\\stan_env\\lib\\site-packages (from fbprophet) (0.10.3)\n",
      "Requirement already satisfied: setuptools-git>=1.2 in d:\\anaconda\\anaconda3\\envs\\stan_env\\lib\\site-packages (from fbprophet) (1.2)\n",
      "Requirement already satisfied: python-dateutil>=2.8.0 in d:\\anaconda\\anaconda3\\envs\\stan_env\\lib\\site-packages (from fbprophet) (2.8.1)\n",
      "Requirement already satisfied: pytz>=2017.2 in d:\\anaconda\\anaconda3\\envs\\stan_env\\lib\\site-packages (from pandas>=0.23.4->fbprophet) (2020.1)\n",
      "Requirement already satisfied: cycler>=0.10 in d:\\anaconda\\anaconda3\\envs\\stan_env\\lib\\site-packages (from matplotlib>=2.0.0->fbprophet) (0.10.0)\n",
      "Requirement already satisfied: pillow>=6.2.0 in d:\\anaconda\\anaconda3\\envs\\stan_env\\lib\\site-packages (from matplotlib>=2.0.0->fbprophet) (7.2.0)\n",
      "Requirement already satisfied: certifi>=2020.06.20 in d:\\anaconda\\anaconda3\\envs\\stan_env\\lib\\site-packages (from matplotlib>=2.0.0->fbprophet) (2020.6.20)\n",
      "Requirement already satisfied: pyparsing!=2.0.4,!=2.1.2,!=2.1.6,>=2.0.3 in d:\\anaconda\\anaconda3\\envs\\stan_env\\lib\\site-packages (from matplotlib>=2.0.0->fbprophet) (2.4.7)\n",
      "Requirement already satisfied: kiwisolver>=1.0.1 in d:\\anaconda\\anaconda3\\envs\\stan_env\\lib\\site-packages (from matplotlib>=2.0.0->fbprophet) (1.2.0)\n",
      "Requirement already satisfied: ephem>=3.7.5.3 in d:\\anaconda\\anaconda3\\envs\\stan_env\\lib\\site-packages (from LunarCalendar>=0.0.9->fbprophet) (3.7.7.1)\n",
      "Requirement already satisfied: pymeeus<=1,>=0.3.6 in d:\\anaconda\\anaconda3\\envs\\stan_env\\lib\\site-packages (from convertdate>=2.1.2->fbprophet) (0.3.7)\n",
      "Requirement already satisfied: six in d:\\anaconda\\anaconda3\\envs\\stan_env\\lib\\site-packages (from holidays>=0.9.5->fbprophet) (1.15.0)\n",
      "Requirement already satisfied: korean-lunar-calendar in d:\\anaconda\\anaconda3\\envs\\stan_env\\lib\\site-packages (from holidays>=0.9.5->fbprophet) (0.2.1)\n"
     ]
    }
   ],
   "source": [
    "# Requirements for project\n",
    "\n",
    "!pip install numpy\n",
    "!pip install matplotlib\n",
    "!pip install plotly\n",
    "!pip install folium\n",
    "!pip install seaborn\n",
    "!pip install pystan\n",
    "!pip install fbprophet\n",
    "\n"
   ]
  },
  {
   "cell_type": "code",
   "execution_count": null,
   "metadata": {},
   "outputs": [],
   "source": []
  }
 ],
 "metadata": {
  "kernelspec": {
   "display_name": "Python 3",
   "language": "python",
   "name": "python3"
  },
  "language_info": {
   "codemirror_mode": {
    "name": "ipython",
    "version": 3
   },
   "file_extension": ".py",
   "mimetype": "text/x-python",
   "name": "python",
   "nbconvert_exporter": "python",
   "pygments_lexer": "ipython3",
   "version": "3.7.9"
  }
 },
 "nbformat": 4,
 "nbformat_minor": 1
}
