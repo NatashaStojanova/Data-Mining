{
 "cells": [
  {
   "cell_type": "markdown",
   "metadata": {
    "pycharm": {
     "name": "#%%\n"
    }
   },
   "source": [
    "## Covid-19 forecasting using Facebook Prophet and ARIMA model"
   ]
  },
  {
   "cell_type": "markdown",
   "metadata": {
    "pycharm": {
     "name": "#%% md\n"
    }
   },
   "source": [
    " **Importing all the python libraries we would be needing for this project.**"
   ]
  },
  {
   "cell_type": "code",
   "execution_count": 14,
   "metadata": {
    "pycharm": {
     "is_executing": true,
     "name": "#%%\n"
    }
   },
   "outputs": [],
   "source": [
    "import pandas as pd\n",
    "import matplotlib.pyplot as plt\n",
    "from statsmodels.graphics.tsaplots import plot_pacf\n",
    "from statsmodels.graphics.tsaplots import plot_acf\n",
    "%matplotlib inline\n",
    "import seaborn as sns\n",
    "import plotly.express as px\n",
    "import plotly.graph_objects as go\n",
    "import folium \n",
    "from folium import plugins\n",
    "from sklearn.metrics import r2_score\n",
    "import itertools\n",
    "from statsmodels.tsa.arima_model import ARIMA\n",
    "import warnings\n",
    "warnings.filterwarnings('ignore')\n",
    "plt.rcParams['figure.figsize'] = 10,12"
   ]
  },
  {
   "cell_type": "markdown",
   "metadata": {
    "pycharm": {
     "name": "#%% md\n"
    }
   },
   "source": [
    "**The next step is collecting data. Collecting is the process of gathering new data from internet,using API, databases and other sources.\n",
    "Once you have the data you need, you can read the datasets and store them into a Pandas DataFrame.**"
   ]
  },
  {
   "cell_type": "code",
   "execution_count": 2,
   "metadata": {
    "pycharm": {
     "name": "#%%\n"
    }
   },
   "outputs": [],
   "source": [
    "df = pd.read_csv('../../DataScraper/macedonia-data.csv')\n",
    "df_italy = pd.read_csv('../../DataScraper/italy.csv')\n",
    "df_spain = pd.read_csv('../../DataScraper/spain.csv')"
   ]
  },
  {
   "cell_type": "code",
   "execution_count": 3,
   "metadata": {
    "pycharm": {
     "name": "#%%\n"
    }
   },
   "outputs": [
    {
     "data": {
      "text/html": [
       "<div>\n",
       "<style scoped>\n",
       "    .dataframe tbody tr th:only-of-type {\n",
       "        vertical-align: middle;\n",
       "    }\n",
       "\n",
       "    .dataframe tbody tr th {\n",
       "        vertical-align: top;\n",
       "    }\n",
       "\n",
       "    .dataframe thead th {\n",
       "        text-align: right;\n",
       "    }\n",
       "</style>\n",
       "<table border=\"1\" class=\"dataframe\">\n",
       "  <thead>\n",
       "    <tr style=\"text-align: right;\">\n",
       "      <th></th>\n",
       "      <th>COUNTRY</th>\n",
       "      <th>COUNTRY_CODE</th>\n",
       "      <th>CONFIRMED</th>\n",
       "      <th>DEATHS</th>\n",
       "      <th>RECOVERED</th>\n",
       "      <th>ACTIVE</th>\n",
       "      <th>DATE</th>\n",
       "    </tr>\n",
       "  </thead>\n",
       "  <tbody>\n",
       "    <tr>\n",
       "      <th>0</th>\n",
       "      <td>Macedonia, Republic of</td>\n",
       "      <td>MK</td>\n",
       "      <td>0</td>\n",
       "      <td>0</td>\n",
       "      <td>0</td>\n",
       "      <td>0</td>\n",
       "      <td>2020-01-22</td>\n",
       "    </tr>\n",
       "    <tr>\n",
       "      <th>1</th>\n",
       "      <td>Macedonia, Republic of</td>\n",
       "      <td>MK</td>\n",
       "      <td>0</td>\n",
       "      <td>0</td>\n",
       "      <td>0</td>\n",
       "      <td>0</td>\n",
       "      <td>2020-01-23</td>\n",
       "    </tr>\n",
       "    <tr>\n",
       "      <th>2</th>\n",
       "      <td>Macedonia, Republic of</td>\n",
       "      <td>MK</td>\n",
       "      <td>0</td>\n",
       "      <td>0</td>\n",
       "      <td>0</td>\n",
       "      <td>0</td>\n",
       "      <td>2020-01-24</td>\n",
       "    </tr>\n",
       "    <tr>\n",
       "      <th>3</th>\n",
       "      <td>Macedonia, Republic of</td>\n",
       "      <td>MK</td>\n",
       "      <td>0</td>\n",
       "      <td>0</td>\n",
       "      <td>0</td>\n",
       "      <td>0</td>\n",
       "      <td>2020-01-25</td>\n",
       "    </tr>\n",
       "    <tr>\n",
       "      <th>4</th>\n",
       "      <td>Macedonia, Republic of</td>\n",
       "      <td>MK</td>\n",
       "      <td>0</td>\n",
       "      <td>0</td>\n",
       "      <td>0</td>\n",
       "      <td>0</td>\n",
       "      <td>2020-01-26</td>\n",
       "    </tr>\n",
       "    <tr>\n",
       "      <th>...</th>\n",
       "      <td>...</td>\n",
       "      <td>...</td>\n",
       "      <td>...</td>\n",
       "      <td>...</td>\n",
       "      <td>...</td>\n",
       "      <td>...</td>\n",
       "      <td>...</td>\n",
       "    </tr>\n",
       "    <tr>\n",
       "      <th>258</th>\n",
       "      <td>Macedonia, Republic of</td>\n",
       "      <td>MK</td>\n",
       "      <td>19096</td>\n",
       "      <td>768</td>\n",
       "      <td>15645</td>\n",
       "      <td>2683</td>\n",
       "      <td>2020-10-06</td>\n",
       "    </tr>\n",
       "    <tr>\n",
       "      <th>259</th>\n",
       "      <td>Macedonia, Republic of</td>\n",
       "      <td>MK</td>\n",
       "      <td>19413</td>\n",
       "      <td>772</td>\n",
       "      <td>15749</td>\n",
       "      <td>2892</td>\n",
       "      <td>2020-10-07</td>\n",
       "    </tr>\n",
       "    <tr>\n",
       "      <th>260</th>\n",
       "      <td>Macedonia, Republic of</td>\n",
       "      <td>MK</td>\n",
       "      <td>19777</td>\n",
       "      <td>775</td>\n",
       "      <td>15855</td>\n",
       "      <td>3147</td>\n",
       "      <td>2020-10-08</td>\n",
       "    </tr>\n",
       "    <tr>\n",
       "      <th>261</th>\n",
       "      <td>Macedonia, Republic of</td>\n",
       "      <td>MK</td>\n",
       "      <td>20163</td>\n",
       "      <td>781</td>\n",
       "      <td>16009</td>\n",
       "      <td>3373</td>\n",
       "      <td>2020-10-09</td>\n",
       "    </tr>\n",
       "    <tr>\n",
       "      <th>262</th>\n",
       "      <td>Macedonia, Republic of</td>\n",
       "      <td>MK</td>\n",
       "      <td>20555</td>\n",
       "      <td>785</td>\n",
       "      <td>16099</td>\n",
       "      <td>3671</td>\n",
       "      <td>2020-10-10</td>\n",
       "    </tr>\n",
       "  </tbody>\n",
       "</table>\n",
       "<p>263 rows × 7 columns</p>\n",
       "</div>"
      ],
      "text/plain": [
       "                    COUNTRY COUNTRY_CODE  CONFIRMED  DEATHS  RECOVERED  \\\n",
       "0    Macedonia, Republic of           MK          0       0          0   \n",
       "1    Macedonia, Republic of           MK          0       0          0   \n",
       "2    Macedonia, Republic of           MK          0       0          0   \n",
       "3    Macedonia, Republic of           MK          0       0          0   \n",
       "4    Macedonia, Republic of           MK          0       0          0   \n",
       "..                      ...          ...        ...     ...        ...   \n",
       "258  Macedonia, Republic of           MK      19096     768      15645   \n",
       "259  Macedonia, Republic of           MK      19413     772      15749   \n",
       "260  Macedonia, Republic of           MK      19777     775      15855   \n",
       "261  Macedonia, Republic of           MK      20163     781      16009   \n",
       "262  Macedonia, Republic of           MK      20555     785      16099   \n",
       "\n",
       "     ACTIVE        DATE  \n",
       "0         0  2020-01-22  \n",
       "1         0  2020-01-23  \n",
       "2         0  2020-01-24  \n",
       "3         0  2020-01-25  \n",
       "4         0  2020-01-26  \n",
       "..      ...         ...  \n",
       "258    2683  2020-10-06  \n",
       "259    2892  2020-10-07  \n",
       "260    3147  2020-10-08  \n",
       "261    3373  2020-10-09  \n",
       "262    3671  2020-10-10  \n",
       "\n",
       "[263 rows x 7 columns]"
      ]
     },
     "execution_count": 3,
     "metadata": {},
     "output_type": "execute_result"
    }
   ],
   "source": [
    "df"
   ]
  },
  {
   "cell_type": "markdown",
   "metadata": {
    "pycharm": {
     "name": "#%% md\n"
    }
   },
   "source": [
    "**The *info()* function is used to print a concise summary of a DataFrame. This method prints information about a DataFrame including the index dtype and column dtypes, total entries, non-null values and memory usage.**"
   ]
  },
  {
   "cell_type": "code",
   "execution_count": 4,
   "metadata": {
    "pycharm": {
     "name": "#%%\n"
    }
   },
   "outputs": [
    {
     "name": "stdout",
     "output_type": "stream",
     "text": [
      "<class 'pandas.core.frame.DataFrame'>\n",
      "RangeIndex: 263 entries, 0 to 262\n",
      "Data columns (total 7 columns):\n",
      " #   Column        Non-Null Count  Dtype \n",
      "---  ------        --------------  ----- \n",
      " 0   COUNTRY       263 non-null    object\n",
      " 1   COUNTRY_CODE  263 non-null    object\n",
      " 2   CONFIRMED     263 non-null    int64 \n",
      " 3   DEATHS        263 non-null    int64 \n",
      " 4   RECOVERED     263 non-null    int64 \n",
      " 5   ACTIVE        263 non-null    int64 \n",
      " 6   DATE          263 non-null    object\n",
      "dtypes: int64(4), object(3)\n",
      "memory usage: 14.5+ KB\n"
     ]
    }
   ],
   "source": [
    "df.info()"
   ]
  },
  {
   "cell_type": "markdown",
   "metadata": {
    "pycharm": {
     "name": "#%% md\n"
    }
   },
   "source": [
    "**The next step is *Feature Engineering*. Feature Engineering being the process of using domain knowledge to extract features from raw data via data mining techniques. For the context of this publication, a new features like DAILY NEW CASES, DAILY NEW DEATHS, DAILY CURERED are created.**"
   ]
  },
  {
   "cell_type": "code",
   "execution_count": 5,
   "metadata": {
    "pycharm": {
     "name": "#%%\n"
    }
   },
   "outputs": [],
   "source": [
    "df['DAILY NEW CASES'] = df['CONFIRMED'] - df['CONFIRMED'].shift(1)\n",
    "df['DAILY NEW DEATHS'] = df['DEATHS'] - df['DEATHS'].shift(1)\n",
    "df['DAILY CURED'] = df['RECOVERED'] - df['RECOVERED'].shift(1)"
   ]
  },
  {
   "cell_type": "code",
   "execution_count": 6,
   "metadata": {
    "pycharm": {
     "name": "#%%\n"
    }
   },
   "outputs": [
    {
     "data": {
      "text/html": [
       "<div>\n",
       "<style scoped>\n",
       "    .dataframe tbody tr th:only-of-type {\n",
       "        vertical-align: middle;\n",
       "    }\n",
       "\n",
       "    .dataframe tbody tr th {\n",
       "        vertical-align: top;\n",
       "    }\n",
       "\n",
       "    .dataframe thead th {\n",
       "        text-align: right;\n",
       "    }\n",
       "</style>\n",
       "<table border=\"1\" class=\"dataframe\">\n",
       "  <thead>\n",
       "    <tr style=\"text-align: right;\">\n",
       "      <th></th>\n",
       "      <th>COUNTRY</th>\n",
       "      <th>COUNTRY_CODE</th>\n",
       "      <th>CONFIRMED</th>\n",
       "      <th>DEATHS</th>\n",
       "      <th>RECOVERED</th>\n",
       "      <th>ACTIVE</th>\n",
       "      <th>DATE</th>\n",
       "      <th>DAILY NEW CASES</th>\n",
       "      <th>DAILY NEW DEATHS</th>\n",
       "      <th>DAILY CURED</th>\n",
       "    </tr>\n",
       "  </thead>\n",
       "  <tbody>\n",
       "    <tr>\n",
       "      <th>0</th>\n",
       "      <td>Macedonia, Republic of</td>\n",
       "      <td>MK</td>\n",
       "      <td>0</td>\n",
       "      <td>0</td>\n",
       "      <td>0</td>\n",
       "      <td>0</td>\n",
       "      <td>2020-01-22</td>\n",
       "      <td>NaN</td>\n",
       "      <td>NaN</td>\n",
       "      <td>NaN</td>\n",
       "    </tr>\n",
       "    <tr>\n",
       "      <th>1</th>\n",
       "      <td>Macedonia, Republic of</td>\n",
       "      <td>MK</td>\n",
       "      <td>0</td>\n",
       "      <td>0</td>\n",
       "      <td>0</td>\n",
       "      <td>0</td>\n",
       "      <td>2020-01-23</td>\n",
       "      <td>0.0</td>\n",
       "      <td>0.0</td>\n",
       "      <td>0.0</td>\n",
       "    </tr>\n",
       "    <tr>\n",
       "      <th>2</th>\n",
       "      <td>Macedonia, Republic of</td>\n",
       "      <td>MK</td>\n",
       "      <td>0</td>\n",
       "      <td>0</td>\n",
       "      <td>0</td>\n",
       "      <td>0</td>\n",
       "      <td>2020-01-24</td>\n",
       "      <td>0.0</td>\n",
       "      <td>0.0</td>\n",
       "      <td>0.0</td>\n",
       "    </tr>\n",
       "    <tr>\n",
       "      <th>3</th>\n",
       "      <td>Macedonia, Republic of</td>\n",
       "      <td>MK</td>\n",
       "      <td>0</td>\n",
       "      <td>0</td>\n",
       "      <td>0</td>\n",
       "      <td>0</td>\n",
       "      <td>2020-01-25</td>\n",
       "      <td>0.0</td>\n",
       "      <td>0.0</td>\n",
       "      <td>0.0</td>\n",
       "    </tr>\n",
       "    <tr>\n",
       "      <th>4</th>\n",
       "      <td>Macedonia, Republic of</td>\n",
       "      <td>MK</td>\n",
       "      <td>0</td>\n",
       "      <td>0</td>\n",
       "      <td>0</td>\n",
       "      <td>0</td>\n",
       "      <td>2020-01-26</td>\n",
       "      <td>0.0</td>\n",
       "      <td>0.0</td>\n",
       "      <td>0.0</td>\n",
       "    </tr>\n",
       "    <tr>\n",
       "      <th>...</th>\n",
       "      <td>...</td>\n",
       "      <td>...</td>\n",
       "      <td>...</td>\n",
       "      <td>...</td>\n",
       "      <td>...</td>\n",
       "      <td>...</td>\n",
       "      <td>...</td>\n",
       "      <td>...</td>\n",
       "      <td>...</td>\n",
       "      <td>...</td>\n",
       "    </tr>\n",
       "    <tr>\n",
       "      <th>258</th>\n",
       "      <td>Macedonia, Republic of</td>\n",
       "      <td>MK</td>\n",
       "      <td>19096</td>\n",
       "      <td>768</td>\n",
       "      <td>15645</td>\n",
       "      <td>2683</td>\n",
       "      <td>2020-10-06</td>\n",
       "      <td>223.0</td>\n",
       "      <td>8.0</td>\n",
       "      <td>158.0</td>\n",
       "    </tr>\n",
       "    <tr>\n",
       "      <th>259</th>\n",
       "      <td>Macedonia, Republic of</td>\n",
       "      <td>MK</td>\n",
       "      <td>19413</td>\n",
       "      <td>772</td>\n",
       "      <td>15749</td>\n",
       "      <td>2892</td>\n",
       "      <td>2020-10-07</td>\n",
       "      <td>317.0</td>\n",
       "      <td>4.0</td>\n",
       "      <td>104.0</td>\n",
       "    </tr>\n",
       "    <tr>\n",
       "      <th>260</th>\n",
       "      <td>Macedonia, Republic of</td>\n",
       "      <td>MK</td>\n",
       "      <td>19777</td>\n",
       "      <td>775</td>\n",
       "      <td>15855</td>\n",
       "      <td>3147</td>\n",
       "      <td>2020-10-08</td>\n",
       "      <td>364.0</td>\n",
       "      <td>3.0</td>\n",
       "      <td>106.0</td>\n",
       "    </tr>\n",
       "    <tr>\n",
       "      <th>261</th>\n",
       "      <td>Macedonia, Republic of</td>\n",
       "      <td>MK</td>\n",
       "      <td>20163</td>\n",
       "      <td>781</td>\n",
       "      <td>16009</td>\n",
       "      <td>3373</td>\n",
       "      <td>2020-10-09</td>\n",
       "      <td>386.0</td>\n",
       "      <td>6.0</td>\n",
       "      <td>154.0</td>\n",
       "    </tr>\n",
       "    <tr>\n",
       "      <th>262</th>\n",
       "      <td>Macedonia, Republic of</td>\n",
       "      <td>MK</td>\n",
       "      <td>20555</td>\n",
       "      <td>785</td>\n",
       "      <td>16099</td>\n",
       "      <td>3671</td>\n",
       "      <td>2020-10-10</td>\n",
       "      <td>392.0</td>\n",
       "      <td>4.0</td>\n",
       "      <td>90.0</td>\n",
       "    </tr>\n",
       "  </tbody>\n",
       "</table>\n",
       "<p>263 rows × 10 columns</p>\n",
       "</div>"
      ],
      "text/plain": [
       "                    COUNTRY COUNTRY_CODE  CONFIRMED  DEATHS  RECOVERED  \\\n",
       "0    Macedonia, Republic of           MK          0       0          0   \n",
       "1    Macedonia, Republic of           MK          0       0          0   \n",
       "2    Macedonia, Republic of           MK          0       0          0   \n",
       "3    Macedonia, Republic of           MK          0       0          0   \n",
       "4    Macedonia, Republic of           MK          0       0          0   \n",
       "..                      ...          ...        ...     ...        ...   \n",
       "258  Macedonia, Republic of           MK      19096     768      15645   \n",
       "259  Macedonia, Republic of           MK      19413     772      15749   \n",
       "260  Macedonia, Republic of           MK      19777     775      15855   \n",
       "261  Macedonia, Republic of           MK      20163     781      16009   \n",
       "262  Macedonia, Republic of           MK      20555     785      16099   \n",
       "\n",
       "     ACTIVE        DATE  DAILY NEW CASES  DAILY NEW DEATHS  DAILY CURED  \n",
       "0         0  2020-01-22              NaN               NaN          NaN  \n",
       "1         0  2020-01-23              0.0               0.0          0.0  \n",
       "2         0  2020-01-24              0.0               0.0          0.0  \n",
       "3         0  2020-01-25              0.0               0.0          0.0  \n",
       "4         0  2020-01-26              0.0               0.0          0.0  \n",
       "..      ...         ...              ...               ...          ...  \n",
       "258    2683  2020-10-06            223.0               8.0        158.0  \n",
       "259    2892  2020-10-07            317.0               4.0        104.0  \n",
       "260    3147  2020-10-08            364.0               3.0        106.0  \n",
       "261    3373  2020-10-09            386.0               6.0        154.0  \n",
       "262    3671  2020-10-10            392.0               4.0         90.0  \n",
       "\n",
       "[263 rows x 10 columns]"
      ]
     },
     "execution_count": 6,
     "metadata": {},
     "output_type": "execute_result"
    }
   ],
   "source": [
    "df"
   ]
  },
  {
   "cell_type": "markdown",
   "metadata": {
    "pycharm": {
     "name": "#%% md\n"
    }
   },
   "source": [
    "**Fill *NaN* values with zero.**"
   ]
  },
  {
   "cell_type": "code",
   "execution_count": 7,
   "metadata": {
    "pycharm": {
     "name": "#%%\n"
    }
   },
   "outputs": [
    {
     "data": {
      "text/html": [
       "<div>\n",
       "<style scoped>\n",
       "    .dataframe tbody tr th:only-of-type {\n",
       "        vertical-align: middle;\n",
       "    }\n",
       "\n",
       "    .dataframe tbody tr th {\n",
       "        vertical-align: top;\n",
       "    }\n",
       "\n",
       "    .dataframe thead th {\n",
       "        text-align: right;\n",
       "    }\n",
       "</style>\n",
       "<table border=\"1\" class=\"dataframe\">\n",
       "  <thead>\n",
       "    <tr style=\"text-align: right;\">\n",
       "      <th></th>\n",
       "      <th>COUNTRY</th>\n",
       "      <th>COUNTRY_CODE</th>\n",
       "      <th>CONFIRMED</th>\n",
       "      <th>DEATHS</th>\n",
       "      <th>RECOVERED</th>\n",
       "      <th>ACTIVE</th>\n",
       "      <th>DATE</th>\n",
       "      <th>DAILY NEW CASES</th>\n",
       "      <th>DAILY NEW DEATHS</th>\n",
       "      <th>DAILY CURED</th>\n",
       "    </tr>\n",
       "  </thead>\n",
       "  <tbody>\n",
       "    <tr>\n",
       "      <th>0</th>\n",
       "      <td>Macedonia, Republic of</td>\n",
       "      <td>MK</td>\n",
       "      <td>0</td>\n",
       "      <td>0</td>\n",
       "      <td>0</td>\n",
       "      <td>0</td>\n",
       "      <td>2020-01-22</td>\n",
       "      <td>0.0</td>\n",
       "      <td>0.0</td>\n",
       "      <td>0.0</td>\n",
       "    </tr>\n",
       "    <tr>\n",
       "      <th>1</th>\n",
       "      <td>Macedonia, Republic of</td>\n",
       "      <td>MK</td>\n",
       "      <td>0</td>\n",
       "      <td>0</td>\n",
       "      <td>0</td>\n",
       "      <td>0</td>\n",
       "      <td>2020-01-23</td>\n",
       "      <td>0.0</td>\n",
       "      <td>0.0</td>\n",
       "      <td>0.0</td>\n",
       "    </tr>\n",
       "    <tr>\n",
       "      <th>2</th>\n",
       "      <td>Macedonia, Republic of</td>\n",
       "      <td>MK</td>\n",
       "      <td>0</td>\n",
       "      <td>0</td>\n",
       "      <td>0</td>\n",
       "      <td>0</td>\n",
       "      <td>2020-01-24</td>\n",
       "      <td>0.0</td>\n",
       "      <td>0.0</td>\n",
       "      <td>0.0</td>\n",
       "    </tr>\n",
       "    <tr>\n",
       "      <th>3</th>\n",
       "      <td>Macedonia, Republic of</td>\n",
       "      <td>MK</td>\n",
       "      <td>0</td>\n",
       "      <td>0</td>\n",
       "      <td>0</td>\n",
       "      <td>0</td>\n",
       "      <td>2020-01-25</td>\n",
       "      <td>0.0</td>\n",
       "      <td>0.0</td>\n",
       "      <td>0.0</td>\n",
       "    </tr>\n",
       "    <tr>\n",
       "      <th>4</th>\n",
       "      <td>Macedonia, Republic of</td>\n",
       "      <td>MK</td>\n",
       "      <td>0</td>\n",
       "      <td>0</td>\n",
       "      <td>0</td>\n",
       "      <td>0</td>\n",
       "      <td>2020-01-26</td>\n",
       "      <td>0.0</td>\n",
       "      <td>0.0</td>\n",
       "      <td>0.0</td>\n",
       "    </tr>\n",
       "    <tr>\n",
       "      <th>...</th>\n",
       "      <td>...</td>\n",
       "      <td>...</td>\n",
       "      <td>...</td>\n",
       "      <td>...</td>\n",
       "      <td>...</td>\n",
       "      <td>...</td>\n",
       "      <td>...</td>\n",
       "      <td>...</td>\n",
       "      <td>...</td>\n",
       "      <td>...</td>\n",
       "    </tr>\n",
       "    <tr>\n",
       "      <th>258</th>\n",
       "      <td>Macedonia, Republic of</td>\n",
       "      <td>MK</td>\n",
       "      <td>19096</td>\n",
       "      <td>768</td>\n",
       "      <td>15645</td>\n",
       "      <td>2683</td>\n",
       "      <td>2020-10-06</td>\n",
       "      <td>223.0</td>\n",
       "      <td>8.0</td>\n",
       "      <td>158.0</td>\n",
       "    </tr>\n",
       "    <tr>\n",
       "      <th>259</th>\n",
       "      <td>Macedonia, Republic of</td>\n",
       "      <td>MK</td>\n",
       "      <td>19413</td>\n",
       "      <td>772</td>\n",
       "      <td>15749</td>\n",
       "      <td>2892</td>\n",
       "      <td>2020-10-07</td>\n",
       "      <td>317.0</td>\n",
       "      <td>4.0</td>\n",
       "      <td>104.0</td>\n",
       "    </tr>\n",
       "    <tr>\n",
       "      <th>260</th>\n",
       "      <td>Macedonia, Republic of</td>\n",
       "      <td>MK</td>\n",
       "      <td>19777</td>\n",
       "      <td>775</td>\n",
       "      <td>15855</td>\n",
       "      <td>3147</td>\n",
       "      <td>2020-10-08</td>\n",
       "      <td>364.0</td>\n",
       "      <td>3.0</td>\n",
       "      <td>106.0</td>\n",
       "    </tr>\n",
       "    <tr>\n",
       "      <th>261</th>\n",
       "      <td>Macedonia, Republic of</td>\n",
       "      <td>MK</td>\n",
       "      <td>20163</td>\n",
       "      <td>781</td>\n",
       "      <td>16009</td>\n",
       "      <td>3373</td>\n",
       "      <td>2020-10-09</td>\n",
       "      <td>386.0</td>\n",
       "      <td>6.0</td>\n",
       "      <td>154.0</td>\n",
       "    </tr>\n",
       "    <tr>\n",
       "      <th>262</th>\n",
       "      <td>Macedonia, Republic of</td>\n",
       "      <td>MK</td>\n",
       "      <td>20555</td>\n",
       "      <td>785</td>\n",
       "      <td>16099</td>\n",
       "      <td>3671</td>\n",
       "      <td>2020-10-10</td>\n",
       "      <td>392.0</td>\n",
       "      <td>4.0</td>\n",
       "      <td>90.0</td>\n",
       "    </tr>\n",
       "  </tbody>\n",
       "</table>\n",
       "<p>263 rows × 10 columns</p>\n",
       "</div>"
      ],
      "text/plain": [
       "                    COUNTRY COUNTRY_CODE  CONFIRMED  DEATHS  RECOVERED  \\\n",
       "0    Macedonia, Republic of           MK          0       0          0   \n",
       "1    Macedonia, Republic of           MK          0       0          0   \n",
       "2    Macedonia, Republic of           MK          0       0          0   \n",
       "3    Macedonia, Republic of           MK          0       0          0   \n",
       "4    Macedonia, Republic of           MK          0       0          0   \n",
       "..                      ...          ...        ...     ...        ...   \n",
       "258  Macedonia, Republic of           MK      19096     768      15645   \n",
       "259  Macedonia, Republic of           MK      19413     772      15749   \n",
       "260  Macedonia, Republic of           MK      19777     775      15855   \n",
       "261  Macedonia, Republic of           MK      20163     781      16009   \n",
       "262  Macedonia, Republic of           MK      20555     785      16099   \n",
       "\n",
       "     ACTIVE        DATE  DAILY NEW CASES  DAILY NEW DEATHS  DAILY CURED  \n",
       "0         0  2020-01-22              0.0               0.0          0.0  \n",
       "1         0  2020-01-23              0.0               0.0          0.0  \n",
       "2         0  2020-01-24              0.0               0.0          0.0  \n",
       "3         0  2020-01-25              0.0               0.0          0.0  \n",
       "4         0  2020-01-26              0.0               0.0          0.0  \n",
       "..      ...         ...              ...               ...          ...  \n",
       "258    2683  2020-10-06            223.0               8.0        158.0  \n",
       "259    2892  2020-10-07            317.0               4.0        104.0  \n",
       "260    3147  2020-10-08            364.0               3.0        106.0  \n",
       "261    3373  2020-10-09            386.0               6.0        154.0  \n",
       "262    3671  2020-10-10            392.0               4.0         90.0  \n",
       "\n",
       "[263 rows x 10 columns]"
      ]
     },
     "execution_count": 7,
     "metadata": {},
     "output_type": "execute_result"
    }
   ],
   "source": [
    "df['DAILY NEW CASES'] = df['DAILY NEW CASES'].fillna(0)\n",
    "df['DAILY NEW DEATHS'] = df['DAILY NEW DEATHS'].fillna(0)\n",
    "df['DAILY CURED'] = df['DAILY CURED'].fillna(0)\n",
    "df"
   ]
  },
  {
   "cell_type": "markdown",
   "metadata": {
    "pycharm": {
     "name": "#%% md\n"
    }
   },
   "source": [
    "**By default, the data type for the *‘Date’* feature is a string str , for proper time series analysis, we have to convert that feature to a datetime datatype using the Pandas *to_datetime* method.**"
   ]
  },
  {
   "cell_type": "code",
   "execution_count": 8,
   "metadata": {
    "pycharm": {
     "name": "#%%\n"
    }
   },
   "outputs": [],
   "source": [
    "df['DATE'] = pd.to_datetime(df['DATE'])"
   ]
  },
  {
   "cell_type": "markdown",
   "metadata": {
    "pycharm": {
     "name": "#%% md\n"
    }
   },
   "source": [
    "**Data Aggregation. In order to show daily new cases by month, this is a step that can't be missed.**"
   ]
  },
  {
   "cell_type": "code",
   "execution_count": 10,
   "metadata": {
    "pycharm": {
     "name": "#%%\n"
    }
   },
   "outputs": [
    {
     "data": {
      "text/html": [
       "<style  type=\"text/css\" >\n",
       "#T_6f4412a8_0fa6_11eb_a5da_74d83e34a287row0_col0{\n",
       "            background-color:  #67000d;\n",
       "            color:  #f1f1f1;\n",
       "        }#T_6f4412a8_0fa6_11eb_a5da_74d83e34a287row1_col0{\n",
       "            background-color:  #8a0812;\n",
       "            color:  #f1f1f1;\n",
       "        }#T_6f4412a8_0fa6_11eb_a5da_74d83e34a287row2_col0{\n",
       "            background-color:  #b51318;\n",
       "            color:  #f1f1f1;\n",
       "        }#T_6f4412a8_0fa6_11eb_a5da_74d83e34a287row3_col0{\n",
       "            background-color:  #b81419;\n",
       "            color:  #f1f1f1;\n",
       "        }#T_6f4412a8_0fa6_11eb_a5da_74d83e34a287row4_col0{\n",
       "            background-color:  #f34a36;\n",
       "            color:  #000000;\n",
       "        }#T_6f4412a8_0fa6_11eb_a5da_74d83e34a287row5_col0{\n",
       "            background-color:  #fcb99f;\n",
       "            color:  #000000;\n",
       "        }#T_6f4412a8_0fa6_11eb_a5da_74d83e34a287row6_col0{\n",
       "            background-color:  #fdd2bf;\n",
       "            color:  #000000;\n",
       "        }#T_6f4412a8_0fa6_11eb_a5da_74d83e34a287row7_col0{\n",
       "            background-color:  #fee9df;\n",
       "            color:  #000000;\n",
       "        }#T_6f4412a8_0fa6_11eb_a5da_74d83e34a287row8_col0,#T_6f4412a8_0fa6_11eb_a5da_74d83e34a287row9_col0{\n",
       "            background-color:  #fff5f0;\n",
       "            color:  #000000;\n",
       "        }</style><table id=\"T_6f4412a8_0fa6_11eb_a5da_74d83e34a287\" ><thead>    <tr>        <th class=\"blank level0\" ></th>        <th class=\"col_heading level0 col0\" >DAILY NEW CASES</th>    </tr>    <tr>        <th class=\"index_name level0\" >DATE</th>        <th class=\"blank\" ></th>    </tr></thead><tbody>\n",
       "                <tr>\n",
       "                        <th id=\"T_6f4412a8_0fa6_11eb_a5da_74d83e34a287level0_row0\" class=\"row_heading level0 row0\" >July</th>\n",
       "                        <td id=\"T_6f4412a8_0fa6_11eb_a5da_74d83e34a287row0_col0\" class=\"data row0 col0\" >4420.000000</td>\n",
       "            </tr>\n",
       "            <tr>\n",
       "                        <th id=\"T_6f4412a8_0fa6_11eb_a5da_74d83e34a287level0_row1\" class=\"row_heading level0 row1\" >June</th>\n",
       "                        <td id=\"T_6f4412a8_0fa6_11eb_a5da_74d83e34a287row1_col0\" class=\"data row1 col0\" >4108.000000</td>\n",
       "            </tr>\n",
       "            <tr>\n",
       "                        <th id=\"T_6f4412a8_0fa6_11eb_a5da_74d83e34a287level0_row2\" class=\"row_heading level0 row2\" >September</th>\n",
       "                        <td id=\"T_6f4412a8_0fa6_11eb_a5da_74d83e34a287row2_col0\" class=\"data row2 col0\" >3636.000000</td>\n",
       "            </tr>\n",
       "            <tr>\n",
       "                        <th id=\"T_6f4412a8_0fa6_11eb_a5da_74d83e34a287level0_row3\" class=\"row_heading level0 row3\" >August</th>\n",
       "                        <td id=\"T_6f4412a8_0fa6_11eb_a5da_74d83e34a287row3_col0\" class=\"data row3 col0\" >3587.000000</td>\n",
       "            </tr>\n",
       "            <tr>\n",
       "                        <th id=\"T_6f4412a8_0fa6_11eb_a5da_74d83e34a287level0_row4\" class=\"row_heading level0 row4\" >October</th>\n",
       "                        <td id=\"T_6f4412a8_0fa6_11eb_a5da_74d83e34a287row4_col0\" class=\"data row4 col0\" >2578.000000</td>\n",
       "            </tr>\n",
       "            <tr>\n",
       "                        <th id=\"T_6f4412a8_0fa6_11eb_a5da_74d83e34a287level0_row5\" class=\"row_heading level0 row5\" >April</th>\n",
       "                        <td id=\"T_6f4412a8_0fa6_11eb_a5da_74d83e34a287row5_col0\" class=\"data row5 col0\" >1136.000000</td>\n",
       "            </tr>\n",
       "            <tr>\n",
       "                        <th id=\"T_6f4412a8_0fa6_11eb_a5da_74d83e34a287level0_row6\" class=\"row_heading level0 row6\" >May</th>\n",
       "                        <td id=\"T_6f4412a8_0fa6_11eb_a5da_74d83e34a287row6_col0\" class=\"data row6 col0\" >761.000000</td>\n",
       "            </tr>\n",
       "            <tr>\n",
       "                        <th id=\"T_6f4412a8_0fa6_11eb_a5da_74d83e34a287level0_row7\" class=\"row_heading level0 row7\" >March</th>\n",
       "                        <td id=\"T_6f4412a8_0fa6_11eb_a5da_74d83e34a287row7_col0\" class=\"data row7 col0\" >328.000000</td>\n",
       "            </tr>\n",
       "            <tr>\n",
       "                        <th id=\"T_6f4412a8_0fa6_11eb_a5da_74d83e34a287level0_row8\" class=\"row_heading level0 row8\" >February</th>\n",
       "                        <td id=\"T_6f4412a8_0fa6_11eb_a5da_74d83e34a287row8_col0\" class=\"data row8 col0\" >1.000000</td>\n",
       "            </tr>\n",
       "            <tr>\n",
       "                        <th id=\"T_6f4412a8_0fa6_11eb_a5da_74d83e34a287level0_row9\" class=\"row_heading level0 row9\" >January</th>\n",
       "                        <td id=\"T_6f4412a8_0fa6_11eb_a5da_74d83e34a287row9_col0\" class=\"data row9 col0\" >0.000000</td>\n",
       "            </tr>\n",
       "    </tbody></table>"
      ],
      "text/plain": [
       "<pandas.io.formats.style.Styler at 0x1881b555e48>"
      ]
     },
     "execution_count": 10,
     "metadata": {},
     "output_type": "execute_result"
    }
   ],
   "source": [
    "total_per_month_df = df.groupby(df['DATE'].dt.strftime('%B'))['DAILY NEW CASES'].sum().sort_values(ascending=False).to_frame()\n",
    "total_per_month_df.style.background_gradient(cmap='Reds')"
   ]
  },
  {
   "cell_type": "markdown",
   "metadata": {
    "pycharm": {
     "name": "#%% md\n"
    }
   },
   "source": [
    "**In the next cell, the goal is to create a dataframe with three columns *(Total Cases, Total Deaths and Total Cured patients)* by month.**"
   ]
  },
  {
   "cell_type": "code",
   "execution_count": 11,
   "metadata": {
    "pycharm": {
     "name": "#%%\n"
    }
   },
   "outputs": [],
   "source": [
    "total_per_month_df = df.groupby(df['DATE'].rename(\"MONTH\").dt.strftime('%B')).agg(\n",
    "TOTAL_CASES = pd.NamedAgg(column='DAILY NEW CASES', aggfunc=sum),\n",
    "TOTAL_DEATHS = pd.NamedAgg(column='DAILY NEW DEATHS', aggfunc=sum),\n",
    "TOTAL_CURED = pd.NamedAgg(column='DAILY CURED', aggfunc=sum),\n",
    ")"
   ]
  },
  {
   "cell_type": "code",
   "execution_count": 12,
   "metadata": {
    "pycharm": {
     "name": "#%%\n"
    }
   },
   "outputs": [
    {
     "data": {
      "text/html": [
       "<div>\n",
       "<style scoped>\n",
       "    .dataframe tbody tr th:only-of-type {\n",
       "        vertical-align: middle;\n",
       "    }\n",
       "\n",
       "    .dataframe tbody tr th {\n",
       "        vertical-align: top;\n",
       "    }\n",
       "\n",
       "    .dataframe thead th {\n",
       "        text-align: right;\n",
       "    }\n",
       "</style>\n",
       "<table border=\"1\" class=\"dataframe\">\n",
       "  <thead>\n",
       "    <tr style=\"text-align: right;\">\n",
       "      <th></th>\n",
       "      <th>TOTAL_CASES</th>\n",
       "      <th>TOTAL_DEATHS</th>\n",
       "      <th>TOTAL_CURED</th>\n",
       "    </tr>\n",
       "    <tr>\n",
       "      <th>MONTH</th>\n",
       "      <th></th>\n",
       "      <th></th>\n",
       "      <th></th>\n",
       "    </tr>\n",
       "  </thead>\n",
       "  <tbody>\n",
       "    <tr>\n",
       "      <th>April</th>\n",
       "      <td>1136.0</td>\n",
       "      <td>68.0</td>\n",
       "      <td>726.0</td>\n",
       "    </tr>\n",
       "    <tr>\n",
       "      <th>August</th>\n",
       "      <td>3587.0</td>\n",
       "      <td>117.0</td>\n",
       "      <td>4603.0</td>\n",
       "    </tr>\n",
       "    <tr>\n",
       "      <th>February</th>\n",
       "      <td>1.0</td>\n",
       "      <td>0.0</td>\n",
       "      <td>0.0</td>\n",
       "    </tr>\n",
       "    <tr>\n",
       "      <th>January</th>\n",
       "      <td>0.0</td>\n",
       "      <td>0.0</td>\n",
       "      <td>0.0</td>\n",
       "    </tr>\n",
       "    <tr>\n",
       "      <th>July</th>\n",
       "      <td>4420.0</td>\n",
       "      <td>184.0</td>\n",
       "      <td>4079.0</td>\n",
       "    </tr>\n",
       "    <tr>\n",
       "      <th>June</th>\n",
       "      <td>4108.0</td>\n",
       "      <td>169.0</td>\n",
       "      <td>923.0</td>\n",
       "    </tr>\n",
       "    <tr>\n",
       "      <th>March</th>\n",
       "      <td>328.0</td>\n",
       "      <td>9.0</td>\n",
       "      <td>12.0</td>\n",
       "    </tr>\n",
       "    <tr>\n",
       "      <th>May</th>\n",
       "      <td>761.0</td>\n",
       "      <td>56.0</td>\n",
       "      <td>814.0</td>\n",
       "    </tr>\n",
       "    <tr>\n",
       "      <th>October</th>\n",
       "      <td>2578.0</td>\n",
       "      <td>46.0</td>\n",
       "      <td>1140.0</td>\n",
       "    </tr>\n",
       "    <tr>\n",
       "      <th>September</th>\n",
       "      <td>3636.0</td>\n",
       "      <td>136.0</td>\n",
       "      <td>3802.0</td>\n",
       "    </tr>\n",
       "  </tbody>\n",
       "</table>\n",
       "</div>"
      ],
      "text/plain": [
       "           TOTAL_CASES  TOTAL_DEATHS  TOTAL_CURED\n",
       "MONTH                                            \n",
       "April           1136.0          68.0        726.0\n",
       "August          3587.0         117.0       4603.0\n",
       "February           1.0           0.0          0.0\n",
       "January            0.0           0.0          0.0\n",
       "July            4420.0         184.0       4079.0\n",
       "June            4108.0         169.0        923.0\n",
       "March            328.0           9.0         12.0\n",
       "May              761.0          56.0        814.0\n",
       "October         2578.0          46.0       1140.0\n",
       "September       3636.0         136.0       3802.0"
      ]
     },
     "execution_count": 12,
     "metadata": {},
     "output_type": "execute_result"
    }
   ],
   "source": [
    "total_per_month_df"
   ]
  },
  {
   "cell_type": "markdown",
   "metadata": {
    "pycharm": {
     "name": "#%% md\n"
    }
   },
   "source": [
    "**Data Visualization \n",
    "<br>\n",
    "To help understanding of the aggregated data, a graphical representation via plotting the data is crucial.**"
   ]
  },
  {
   "cell_type": "code",
   "execution_count": 13,
   "metadata": {
    "pycharm": {
     "name": "#%%\n"
    }
   },
   "outputs": [
    {
     "data": {
      "image/png": "[encoded data removed]",
      "text/plain": [
       "<Figure size 864x576 with 1 Axes>"
      ]
     },
     "metadata": {
      "needs_background": "light"
     },
     "output_type": "display_data"
    }
   ],
   "source": [
    "f, ax = plt.subplots(figsize = (12,8))\n",
    "data = total_per_month_df.copy()\n",
    "data['MONTH'] = data.index\n",
    "data.sort_values('TOTAL_CASES', ascending =  False, inplace = True)\n",
    "sns.set_color_codes(\"dark\")\n",
    "sns.barplot(x = \"TOTAL_CASES\", y = \"MONTH\", data = data, label = \"Total cases\", color = \"b\")\n",
    "sns.set_color_codes(\"dark\")\n",
    "sns.barplot(x = \"TOTAL_DEATHS\", y = \"MONTH\", data = data, label = \"Deaths\", color = \"r\")\n",
    "\n",
    "ax.legend(ncol = 2, loc = \"lower right\", frameon = True)\n",
    "ax.set(xlim = (0, 4500), ylabel = \"\", xlabel=\"Cases\")\n",
    "sns.despine(left = True, bottom = True)\n"
   ]
  },
  {
   "cell_type": "code",
   "execution_count": 14,
   "metadata": {
    "pycharm": {
     "name": "#%%\n"
    }
   },
   "outputs": [],
   "source": [
    "import plotly\n",
    "plotly.io.renderers.default = 'browser'"
   ]
  },
  {
   "cell_type": "markdown",
   "metadata": {
    "pycharm": {
     "name": "#%% md\n"
    }
   },
   "source": [
    "**By running the next two cells, there is a graphical representation of our previous dataframe, where x axis is the date and y axis is the number of daily new cases with Covid-19. Also, there are a hover actions to this visualization, which means if you hover on point(which represents a date between January and August), you're gonna notice a pop up window with number of Covid-19 cases for that day.**"
   ]
  },
  {
   "cell_type": "code",
   "execution_count": 15,
   "metadata": {
    "pycharm": {
     "is_executing": true,
     "name": "#%%\n"
    }
   },
   "outputs": [],
   "source": [
    "fig = go.Figure()\n",
    "fig.add_trace(go.Scatter(x=df['DATE'], y=df['DAILY NEW CASES'], mode='lines+markers', name='Total Cases'))\n",
    "fig.update_layout(title_text='Coronavirus cases in North Macedonia', plot_bgcolor='rgb(230,230,230)')\n",
    "fig.show()"
   ]
  },
  {
   "cell_type": "code",
   "execution_count": 16,
   "metadata": {
    "pycharm": {
     "is_executing": true,
     "name": "#%%\n"
    }
   },
   "outputs": [],
   "source": [
    "import plotly.express as px\n",
    "fig = px.bar(df, x=\"DATE\", y= \"DAILY NEW CASES\", barmode='group', height = 400)\n",
    "fig.update_layout(title_text='Coronavirus cases in North Macedonia', plot_bgcolor='rgb(230,230,230)')\n",
    "fig.show()"
   ]
  },
  {
   "cell_type": "markdown",
   "metadata": {
    "pycharm": {
     "name": "#%% md\n"
    }
   },
   "source": [
    "**As I mentioned before, the data type for the *‘Date’* feature is a string and we have to convert that feature to a datetime datatype using the Pandas *to_datetime* method.** "
   ]
  },
  {
   "cell_type": "code",
   "execution_count": 17,
   "metadata": {
    "pycharm": {
     "is_executing": true,
     "name": "#%%\n"
    }
   },
   "outputs": [],
   "source": [
    "df_italy['DATE'] = pd.to_datetime(df_italy['DATE'])\n",
    "df_spain['DATE'] = pd.to_datetime(df_spain['DATE'])"
   ]
  },
  {
   "cell_type": "markdown",
   "metadata": {
    "pycharm": {
     "name": "#%% md\n"
    }
   },
   "source": [
    "**Create new features from the existing ones and then fill *NaN* values with zero. The identical process is for Italy and Spain.**"
   ]
  },
  {
   "cell_type": "code",
   "execution_count": 18,
   "metadata": {
    "pycharm": {
     "is_executing": true,
     "name": "#%%\n"
    }
   },
   "outputs": [],
   "source": [
    "df_italy['DAILY NEW CASES'] = df_italy['CONFIRMED'] - df_italy['CONFIRMED'].shift(1)\n",
    "df_italy['DAILY NEW DEATHS'] = df_italy['DEATHS'] - df_italy['DEATHS'].shift(1)\n",
    "df_italy['DAILY CURED'] = df_italy['RECOVERED'] - df_italy['RECOVERED'].shift(1)"
   ]
  },
  {
   "cell_type": "code",
   "execution_count": 19,
   "metadata": {
    "pycharm": {
     "is_executing": true,
     "name": "#%%\n"
    }
   },
   "outputs": [
    {
     "data": {
      "text/html": [
       "<div>\n",
       "<style scoped>\n",
       "    .dataframe tbody tr th:only-of-type {\n",
       "        vertical-align: middle;\n",
       "    }\n",
       "\n",
       "    .dataframe tbody tr th {\n",
       "        vertical-align: top;\n",
       "    }\n",
       "\n",
       "    .dataframe thead th {\n",
       "        text-align: right;\n",
       "    }\n",
       "</style>\n",
       "<table border=\"1\" class=\"dataframe\">\n",
       "  <thead>\n",
       "    <tr style=\"text-align: right;\">\n",
       "      <th></th>\n",
       "      <th>COUNTRY</th>\n",
       "      <th>COUNTRY_CODE</th>\n",
       "      <th>CONFIRMED</th>\n",
       "      <th>DEATHS</th>\n",
       "      <th>RECOVERED</th>\n",
       "      <th>ACTIVE</th>\n",
       "      <th>DATE</th>\n",
       "      <th>DAILY NEW CASES</th>\n",
       "      <th>DAILY NEW DEATHS</th>\n",
       "      <th>DAILY CURED</th>\n",
       "    </tr>\n",
       "  </thead>\n",
       "  <tbody>\n",
       "    <tr>\n",
       "      <th>0</th>\n",
       "      <td>Italy</td>\n",
       "      <td>IT</td>\n",
       "      <td>0</td>\n",
       "      <td>0</td>\n",
       "      <td>0</td>\n",
       "      <td>0</td>\n",
       "      <td>2020-01-22</td>\n",
       "      <td>0.0</td>\n",
       "      <td>0.0</td>\n",
       "      <td>0.0</td>\n",
       "    </tr>\n",
       "    <tr>\n",
       "      <th>1</th>\n",
       "      <td>Italy</td>\n",
       "      <td>IT</td>\n",
       "      <td>0</td>\n",
       "      <td>0</td>\n",
       "      <td>0</td>\n",
       "      <td>0</td>\n",
       "      <td>2020-01-23</td>\n",
       "      <td>0.0</td>\n",
       "      <td>0.0</td>\n",
       "      <td>0.0</td>\n",
       "    </tr>\n",
       "    <tr>\n",
       "      <th>2</th>\n",
       "      <td>Italy</td>\n",
       "      <td>IT</td>\n",
       "      <td>0</td>\n",
       "      <td>0</td>\n",
       "      <td>0</td>\n",
       "      <td>0</td>\n",
       "      <td>2020-01-24</td>\n",
       "      <td>0.0</td>\n",
       "      <td>0.0</td>\n",
       "      <td>0.0</td>\n",
       "    </tr>\n",
       "    <tr>\n",
       "      <th>3</th>\n",
       "      <td>Italy</td>\n",
       "      <td>IT</td>\n",
       "      <td>0</td>\n",
       "      <td>0</td>\n",
       "      <td>0</td>\n",
       "      <td>0</td>\n",
       "      <td>2020-01-25</td>\n",
       "      <td>0.0</td>\n",
       "      <td>0.0</td>\n",
       "      <td>0.0</td>\n",
       "    </tr>\n",
       "    <tr>\n",
       "      <th>4</th>\n",
       "      <td>Italy</td>\n",
       "      <td>IT</td>\n",
       "      <td>0</td>\n",
       "      <td>0</td>\n",
       "      <td>0</td>\n",
       "      <td>0</td>\n",
       "      <td>2020-01-26</td>\n",
       "      <td>0.0</td>\n",
       "      <td>0.0</td>\n",
       "      <td>0.0</td>\n",
       "    </tr>\n",
       "    <tr>\n",
       "      <th>...</th>\n",
       "      <td>...</td>\n",
       "      <td>...</td>\n",
       "      <td>...</td>\n",
       "      <td>...</td>\n",
       "      <td>...</td>\n",
       "      <td>...</td>\n",
       "      <td>...</td>\n",
       "      <td>...</td>\n",
       "      <td>...</td>\n",
       "      <td>...</td>\n",
       "    </tr>\n",
       "    <tr>\n",
       "      <th>258</th>\n",
       "      <td>Italy</td>\n",
       "      <td>IT</td>\n",
       "      <td>330263</td>\n",
       "      <td>36030</td>\n",
       "      <td>234099</td>\n",
       "      <td>60134</td>\n",
       "      <td>2020-10-06</td>\n",
       "      <td>2677.0</td>\n",
       "      <td>28.0</td>\n",
       "      <td>1418.0</td>\n",
       "    </tr>\n",
       "    <tr>\n",
       "      <th>259</th>\n",
       "      <td>Italy</td>\n",
       "      <td>IT</td>\n",
       "      <td>333940</td>\n",
       "      <td>36061</td>\n",
       "      <td>235303</td>\n",
       "      <td>62576</td>\n",
       "      <td>2020-10-07</td>\n",
       "      <td>3677.0</td>\n",
       "      <td>31.0</td>\n",
       "      <td>1204.0</td>\n",
       "    </tr>\n",
       "    <tr>\n",
       "      <th>260</th>\n",
       "      <td>Italy</td>\n",
       "      <td>IT</td>\n",
       "      <td>338398</td>\n",
       "      <td>36083</td>\n",
       "      <td>236363</td>\n",
       "      <td>65952</td>\n",
       "      <td>2020-10-08</td>\n",
       "      <td>4458.0</td>\n",
       "      <td>22.0</td>\n",
       "      <td>1060.0</td>\n",
       "    </tr>\n",
       "    <tr>\n",
       "      <th>261</th>\n",
       "      <td>Italy</td>\n",
       "      <td>IT</td>\n",
       "      <td>343770</td>\n",
       "      <td>36111</td>\n",
       "      <td>237549</td>\n",
       "      <td>70110</td>\n",
       "      <td>2020-10-09</td>\n",
       "      <td>5372.0</td>\n",
       "      <td>28.0</td>\n",
       "      <td>1186.0</td>\n",
       "    </tr>\n",
       "    <tr>\n",
       "      <th>262</th>\n",
       "      <td>Italy</td>\n",
       "      <td>IT</td>\n",
       "      <td>349494</td>\n",
       "      <td>36140</td>\n",
       "      <td>238525</td>\n",
       "      <td>74829</td>\n",
       "      <td>2020-10-10</td>\n",
       "      <td>5724.0</td>\n",
       "      <td>29.0</td>\n",
       "      <td>976.0</td>\n",
       "    </tr>\n",
       "  </tbody>\n",
       "</table>\n",
       "<p>263 rows × 10 columns</p>\n",
       "</div>"
      ],
      "text/plain": [
       "    COUNTRY COUNTRY_CODE  CONFIRMED  DEATHS  RECOVERED  ACTIVE       DATE  \\\n",
       "0     Italy           IT          0       0          0       0 2020-01-22   \n",
       "1     Italy           IT          0       0          0       0 2020-01-23   \n",
       "2     Italy           IT          0       0          0       0 2020-01-24   \n",
       "3     Italy           IT          0       0          0       0 2020-01-25   \n",
       "4     Italy           IT          0       0          0       0 2020-01-26   \n",
       "..      ...          ...        ...     ...        ...     ...        ...   \n",
       "258   Italy           IT     330263   36030     234099   60134 2020-10-06   \n",
       "259   Italy           IT     333940   36061     235303   62576 2020-10-07   \n",
       "260   Italy           IT     338398   36083     236363   65952 2020-10-08   \n",
       "261   Italy           IT     343770   36111     237549   70110 2020-10-09   \n",
       "262   Italy           IT     349494   36140     238525   74829 2020-10-10   \n",
       "\n",
       "     DAILY NEW CASES  DAILY NEW DEATHS  DAILY CURED  \n",
       "0                0.0               0.0          0.0  \n",
       "1                0.0               0.0          0.0  \n",
       "2                0.0               0.0          0.0  \n",
       "3                0.0               0.0          0.0  \n",
       "4                0.0               0.0          0.0  \n",
       "..               ...               ...          ...  \n",
       "258           2677.0              28.0       1418.0  \n",
       "259           3677.0              31.0       1204.0  \n",
       "260           4458.0              22.0       1060.0  \n",
       "261           5372.0              28.0       1186.0  \n",
       "262           5724.0              29.0        976.0  \n",
       "\n",
       "[263 rows x 10 columns]"
      ]
     },
     "execution_count": 19,
     "metadata": {},
     "output_type": "execute_result"
    }
   ],
   "source": [
    "df_italy['DAILY NEW CASES'] = df_italy['DAILY NEW CASES'].fillna(0)\n",
    "df_italy['DAILY NEW DEATHS'] = df_italy['DAILY NEW DEATHS'].fillna(0)\n",
    "df_italy['DAILY CURED'] = df_italy['DAILY CURED'].fillna(0)\n",
    "df_italy"
   ]
  },
  {
   "cell_type": "code",
   "execution_count": 20,
   "metadata": {
    "pycharm": {
     "is_executing": true,
     "name": "#%%\n"
    }
   },
   "outputs": [],
   "source": [
    "df_spain['DAILY NEW CASES'] = df_spain['CONFIRMED'] - df_spain['CONFIRMED'].shift(1)\n",
    "df_spain['DAILY NEW DEATHS'] = df_spain['DEATHS'] - df_spain['DEATHS'].shift(1)\n",
    "df_spain['DAILY CURED'] = df_spain['RECOVERED'] - df_spain['RECOVERED'].shift(1)"
   ]
  },
  {
   "cell_type": "code",
   "execution_count": 21,
   "metadata": {
    "pycharm": {
     "is_executing": true,
     "name": "#%%\n"
    }
   },
   "outputs": [
    {
     "data": {
      "text/html": [
       "<div>\n",
       "<style scoped>\n",
       "    .dataframe tbody tr th:only-of-type {\n",
       "        vertical-align: middle;\n",
       "    }\n",
       "\n",
       "    .dataframe tbody tr th {\n",
       "        vertical-align: top;\n",
       "    }\n",
       "\n",
       "    .dataframe thead th {\n",
       "        text-align: right;\n",
       "    }\n",
       "</style>\n",
       "<table border=\"1\" class=\"dataframe\">\n",
       "  <thead>\n",
       "    <tr style=\"text-align: right;\">\n",
       "      <th></th>\n",
       "      <th>COUNTRY</th>\n",
       "      <th>COUNTRY_CODE</th>\n",
       "      <th>CONFIRMED</th>\n",
       "      <th>DEATHS</th>\n",
       "      <th>RECOVERED</th>\n",
       "      <th>ACTIVE</th>\n",
       "      <th>DATE</th>\n",
       "      <th>DAILY NEW CASES</th>\n",
       "      <th>DAILY NEW DEATHS</th>\n",
       "      <th>DAILY CURED</th>\n",
       "    </tr>\n",
       "  </thead>\n",
       "  <tbody>\n",
       "    <tr>\n",
       "      <th>0</th>\n",
       "      <td>Spain</td>\n",
       "      <td>ES</td>\n",
       "      <td>0.0</td>\n",
       "      <td>0.0</td>\n",
       "      <td>0.0</td>\n",
       "      <td>0.0</td>\n",
       "      <td>2020-01-22 00:00:00</td>\n",
       "      <td>0.0</td>\n",
       "      <td>0.0</td>\n",
       "      <td>0.0</td>\n",
       "    </tr>\n",
       "    <tr>\n",
       "      <th>1</th>\n",
       "      <td>Spain</td>\n",
       "      <td>ES</td>\n",
       "      <td>0.0</td>\n",
       "      <td>0.0</td>\n",
       "      <td>0.0</td>\n",
       "      <td>0.0</td>\n",
       "      <td>2020-01-23 00:00:00</td>\n",
       "      <td>0.0</td>\n",
       "      <td>0.0</td>\n",
       "      <td>0.0</td>\n",
       "    </tr>\n",
       "    <tr>\n",
       "      <th>2</th>\n",
       "      <td>Spain</td>\n",
       "      <td>ES</td>\n",
       "      <td>0.0</td>\n",
       "      <td>0.0</td>\n",
       "      <td>0.0</td>\n",
       "      <td>0.0</td>\n",
       "      <td>2020-01-24 00:00:00</td>\n",
       "      <td>0.0</td>\n",
       "      <td>0.0</td>\n",
       "      <td>0.0</td>\n",
       "    </tr>\n",
       "    <tr>\n",
       "      <th>3</th>\n",
       "      <td>Spain</td>\n",
       "      <td>ES</td>\n",
       "      <td>0.0</td>\n",
       "      <td>0.0</td>\n",
       "      <td>0.0</td>\n",
       "      <td>0.0</td>\n",
       "      <td>2020-01-25 00:00:00</td>\n",
       "      <td>0.0</td>\n",
       "      <td>0.0</td>\n",
       "      <td>0.0</td>\n",
       "    </tr>\n",
       "    <tr>\n",
       "      <th>4</th>\n",
       "      <td>Spain</td>\n",
       "      <td>ES</td>\n",
       "      <td>0.0</td>\n",
       "      <td>0.0</td>\n",
       "      <td>0.0</td>\n",
       "      <td>0.0</td>\n",
       "      <td>2020-01-26 00:00:00</td>\n",
       "      <td>0.0</td>\n",
       "      <td>0.0</td>\n",
       "      <td>0.0</td>\n",
       "    </tr>\n",
       "    <tr>\n",
       "      <th>...</th>\n",
       "      <td>...</td>\n",
       "      <td>...</td>\n",
       "      <td>...</td>\n",
       "      <td>...</td>\n",
       "      <td>...</td>\n",
       "      <td>...</td>\n",
       "      <td>...</td>\n",
       "      <td>...</td>\n",
       "      <td>...</td>\n",
       "      <td>...</td>\n",
       "    </tr>\n",
       "    <tr>\n",
       "      <th>258</th>\n",
       "      <td>Spain</td>\n",
       "      <td>ES</td>\n",
       "      <td>825410.0</td>\n",
       "      <td>32486.0</td>\n",
       "      <td>150376.0</td>\n",
       "      <td>642548.0</td>\n",
       "      <td>2020-10-06 00:00:00</td>\n",
       "      <td>11998.0</td>\n",
       "      <td>261.0</td>\n",
       "      <td>0.0</td>\n",
       "    </tr>\n",
       "    <tr>\n",
       "      <th>259</th>\n",
       "      <td>Spain</td>\n",
       "      <td>ES</td>\n",
       "      <td>835901.0</td>\n",
       "      <td>32562.0</td>\n",
       "      <td>150376.0</td>\n",
       "      <td>652963.0</td>\n",
       "      <td>2020-10-07 00:00:00</td>\n",
       "      <td>10491.0</td>\n",
       "      <td>76.0</td>\n",
       "      <td>0.0</td>\n",
       "    </tr>\n",
       "    <tr>\n",
       "      <th>260</th>\n",
       "      <td>Spain</td>\n",
       "      <td>ES</td>\n",
       "      <td>848324.0</td>\n",
       "      <td>32688.0</td>\n",
       "      <td>150376.0</td>\n",
       "      <td>665260.0</td>\n",
       "      <td>2020-10-08 00:00:00</td>\n",
       "      <td>12423.0</td>\n",
       "      <td>126.0</td>\n",
       "      <td>0.0</td>\n",
       "    </tr>\n",
       "    <tr>\n",
       "      <th>261</th>\n",
       "      <td>Spain</td>\n",
       "      <td>ES</td>\n",
       "      <td>861112.0</td>\n",
       "      <td>32929.0</td>\n",
       "      <td>150376.0</td>\n",
       "      <td>677807.0</td>\n",
       "      <td>2020-10-09 00:00:00</td>\n",
       "      <td>12788.0</td>\n",
       "      <td>241.0</td>\n",
       "      <td>0.0</td>\n",
       "    </tr>\n",
       "    <tr>\n",
       "      <th>262</th>\n",
       "      <td>Spain</td>\n",
       "      <td>ES</td>\n",
       "      <td>861112.0</td>\n",
       "      <td>32929.0</td>\n",
       "      <td>150376.0</td>\n",
       "      <td>677807.0</td>\n",
       "      <td>2020-10-10 00:00:00</td>\n",
       "      <td>0.0</td>\n",
       "      <td>0.0</td>\n",
       "      <td>0.0</td>\n",
       "    </tr>\n",
       "  </tbody>\n",
       "</table>\n",
       "<p>263 rows × 10 columns</p>\n",
       "</div>"
      ],
      "text/plain": [
       "    COUNTRY COUNTRY_CODE  CONFIRMED   DEATHS  RECOVERED    ACTIVE  \\\n",
       "0     Spain           ES        0.0      0.0        0.0       0.0   \n",
       "1     Spain           ES        0.0      0.0        0.0       0.0   \n",
       "2     Spain           ES        0.0      0.0        0.0       0.0   \n",
       "3     Spain           ES        0.0      0.0        0.0       0.0   \n",
       "4     Spain           ES        0.0      0.0        0.0       0.0   \n",
       "..      ...          ...        ...      ...        ...       ...   \n",
       "258   Spain           ES   825410.0  32486.0   150376.0  642548.0   \n",
       "259   Spain           ES   835901.0  32562.0   150376.0  652963.0   \n",
       "260   Spain           ES   848324.0  32688.0   150376.0  665260.0   \n",
       "261   Spain           ES   861112.0  32929.0   150376.0  677807.0   \n",
       "262   Spain           ES   861112.0  32929.0   150376.0  677807.0   \n",
       "\n",
       "                    DATE  DAILY NEW CASES  DAILY NEW DEATHS  DAILY CURED  \n",
       "0    2020-01-22 00:00:00              0.0               0.0          0.0  \n",
       "1    2020-01-23 00:00:00              0.0               0.0          0.0  \n",
       "2    2020-01-24 00:00:00              0.0               0.0          0.0  \n",
       "3    2020-01-25 00:00:00              0.0               0.0          0.0  \n",
       "4    2020-01-26 00:00:00              0.0               0.0          0.0  \n",
       "..                   ...              ...               ...          ...  \n",
       "258  2020-10-06 00:00:00          11998.0             261.0          0.0  \n",
       "259  2020-10-07 00:00:00          10491.0              76.0          0.0  \n",
       "260  2020-10-08 00:00:00          12423.0             126.0          0.0  \n",
       "261  2020-10-09 00:00:00          12788.0             241.0          0.0  \n",
       "262  2020-10-10 00:00:00              0.0               0.0          0.0  \n",
       "\n",
       "[263 rows x 10 columns]"
      ]
     },
     "execution_count": 21,
     "metadata": {},
     "output_type": "execute_result"
    }
   ],
   "source": [
    "df_spain['DAILY NEW CASES'] = df_spain['DAILY NEW CASES'].fillna(0)\n",
    "df_spain['DAILY NEW DEATHS'] = df_spain['DAILY NEW DEATHS'].fillna(0)\n",
    "df_spain['DAILY CURED'] = df_spain['DAILY CURED'].fillna(0)\n",
    "df_spain\n",
    "mean = df_spain[\"DAILY NEW CASES\"].mean()\n",
    "df_spain[df_spain['DAILY NEW CASES'] < 0] = mean\n",
    "df_spain\n",
    "       "
   ]
  },
  {
   "cell_type": "markdown",
   "metadata": {
    "pycharm": {
     "name": "#%% md\n"
    }
   },
   "source": [
    "**Comparing each country's growing number of coronavirus cases on the same time using Plotly - Python graphing library.**"
   ]
  },
  {
   "cell_type": "code",
   "execution_count": 22,
   "metadata": {
    "pycharm": {
     "is_executing": true,
     "name": "#%%\n"
    }
   },
   "outputs": [],
   "source": [
    "from plotly.subplots import make_subplots\n",
    "\n",
    "fig = make_subplots(\n",
    "rows = 2, cols =2,\n",
    "specs= [[{},{}],\n",
    "        [{\"colspan\": 2}, None]],\n",
    "subplot_titles=(\"North Macedonia\", \"Italy\", \"Spain\"))\n",
    "\n",
    "fig.add_trace(go.Bar(x=df['DATE'], \\\n",
    "                     y = df['DAILY NEW CASES'], \\\n",
    "                     marker = dict(color = df['DAILY NEW CASES'], \\\n",
    "                                   coloraxis=\"coloraxis\")), row=1 , col=1)\n",
    "\n",
    "fig.add_trace(go.Bar(x=df_italy['DATE'], \\\n",
    "                     y = df_italy['DAILY NEW CASES'], \\\n",
    "                     marker = dict(color = df_italy['DAILY NEW CASES'], \\\n",
    "                                   coloraxis=\"coloraxis\")), row=1 , col=2)\n",
    "\n",
    "fig.add_trace(go.Bar(x=df_spain['DATE'], \\\n",
    "                     y = df_spain['DAILY NEW CASES'], \\\n",
    "                     marker = dict(color = df_spain['DAILY NEW CASES'], \\\n",
    "                                   coloraxis=\"coloraxis\")), row=2, col=1)\n",
    "\n",
    "fig.update_layout(coloraxis=dict(colorscale = 'Bluered_r'), showlegend = False)\n",
    "\n",
    "fig.update_layout(plot_bgcolor='rgb(230,230,230)')\n",
    "\n",
    "fig.show()"
   ]
  },
  {
   "cell_type": "markdown",
   "metadata": {
    "pycharm": {
     "name": "#%% md\n"
    }
   },
   "source": [
    "**Forecast the number of Covid-19 cases using Facebook Prophet.<br>\n",
    "From the official documentation: \"Prophet is a procedure for forecasting time series data based on an additive model where non-linear trends are fit with yearly, weekly, and daily seasonality, plus holiday effects. It works best with time series that have strong seasonal effects and several seasons of historical data. Prophet is robust to missing data and shifts in the trend, and typically handles outliers well.\" <br>\n",
    "As this project contains time series data, I decided to try how would it work.**"
   ]
  },
  {
   "cell_type": "code",
   "execution_count": 23,
   "metadata": {
    "pycharm": {
     "is_executing": true,
     "name": "#%%\n"
    }
   },
   "outputs": [],
   "source": [
    "from fbprophet.diagnostics import cross_validation\n",
    "from fbprophet import Prophet"
   ]
  },
  {
   "cell_type": "code",
   "execution_count": 24,
   "metadata": {
    "pycharm": {
     "is_executing": true,
     "name": "#%%\n"
    }
   },
   "outputs": [],
   "source": [
    "data = pd.read_csv('./covid19-data.csv')"
   ]
  },
  {
   "cell_type": "code",
   "execution_count": 25,
   "metadata": {
    "pycharm": {
     "is_executing": true,
     "name": "#%%\n"
    }
   },
   "outputs": [
    {
     "data": {
      "text/html": [
       "<div>\n",
       "<style scoped>\n",
       "    .dataframe tbody tr th:only-of-type {\n",
       "        vertical-align: middle;\n",
       "    }\n",
       "\n",
       "    .dataframe tbody tr th {\n",
       "        vertical-align: top;\n",
       "    }\n",
       "\n",
       "    .dataframe thead th {\n",
       "        text-align: right;\n",
       "    }\n",
       "</style>\n",
       "<table border=\"1\" class=\"dataframe\">\n",
       "  <thead>\n",
       "    <tr style=\"text-align: right;\">\n",
       "      <th></th>\n",
       "      <th>Date</th>\n",
       "      <th>Country/Region</th>\n",
       "      <th>Province/State</th>\n",
       "      <th>Lat</th>\n",
       "      <th>Long</th>\n",
       "      <th>Confirmed</th>\n",
       "      <th>Recovered</th>\n",
       "      <th>Deaths</th>\n",
       "    </tr>\n",
       "  </thead>\n",
       "  <tbody>\n",
       "    <tr>\n",
       "      <th>0</th>\n",
       "      <td>2020-01-22</td>\n",
       "      <td>Afghanistan</td>\n",
       "      <td>NaN</td>\n",
       "      <td>33.93911</td>\n",
       "      <td>67.709953</td>\n",
       "      <td>0</td>\n",
       "      <td>0.0</td>\n",
       "      <td>0</td>\n",
       "    </tr>\n",
       "    <tr>\n",
       "      <th>1</th>\n",
       "      <td>2020-01-23</td>\n",
       "      <td>Afghanistan</td>\n",
       "      <td>NaN</td>\n",
       "      <td>33.93911</td>\n",
       "      <td>67.709953</td>\n",
       "      <td>0</td>\n",
       "      <td>0.0</td>\n",
       "      <td>0</td>\n",
       "    </tr>\n",
       "    <tr>\n",
       "      <th>2</th>\n",
       "      <td>2020-01-24</td>\n",
       "      <td>Afghanistan</td>\n",
       "      <td>NaN</td>\n",
       "      <td>33.93911</td>\n",
       "      <td>67.709953</td>\n",
       "      <td>0</td>\n",
       "      <td>0.0</td>\n",
       "      <td>0</td>\n",
       "    </tr>\n",
       "    <tr>\n",
       "      <th>3</th>\n",
       "      <td>2020-01-25</td>\n",
       "      <td>Afghanistan</td>\n",
       "      <td>NaN</td>\n",
       "      <td>33.93911</td>\n",
       "      <td>67.709953</td>\n",
       "      <td>0</td>\n",
       "      <td>0.0</td>\n",
       "      <td>0</td>\n",
       "    </tr>\n",
       "    <tr>\n",
       "      <th>4</th>\n",
       "      <td>2020-01-26</td>\n",
       "      <td>Afghanistan</td>\n",
       "      <td>NaN</td>\n",
       "      <td>33.93911</td>\n",
       "      <td>67.709953</td>\n",
       "      <td>0</td>\n",
       "      <td>0.0</td>\n",
       "      <td>0</td>\n",
       "    </tr>\n",
       "  </tbody>\n",
       "</table>\n",
       "</div>"
      ],
      "text/plain": [
       "         Date Country/Region Province/State       Lat       Long  Confirmed  \\\n",
       "0  2020-01-22    Afghanistan            NaN  33.93911  67.709953          0   \n",
       "1  2020-01-23    Afghanistan            NaN  33.93911  67.709953          0   \n",
       "2  2020-01-24    Afghanistan            NaN  33.93911  67.709953          0   \n",
       "3  2020-01-25    Afghanistan            NaN  33.93911  67.709953          0   \n",
       "4  2020-01-26    Afghanistan            NaN  33.93911  67.709953          0   \n",
       "\n",
       "   Recovered  Deaths  \n",
       "0        0.0       0  \n",
       "1        0.0       0  \n",
       "2        0.0       0  \n",
       "3        0.0       0  \n",
       "4        0.0       0  "
      ]
     },
     "execution_count": 25,
     "metadata": {},
     "output_type": "execute_result"
    }
   ],
   "source": [
    "data.head()"
   ]
  },
  {
   "cell_type": "code",
   "execution_count": 26,
   "metadata": {
    "pycharm": {
     "is_executing": true,
     "name": "#%%\n"
    }
   },
   "outputs": [
    {
     "data": {
      "text/html": [
       "<div>\n",
       "<style scoped>\n",
       "    .dataframe tbody tr th:only-of-type {\n",
       "        vertical-align: middle;\n",
       "    }\n",
       "\n",
       "    .dataframe tbody tr th {\n",
       "        vertical-align: top;\n",
       "    }\n",
       "\n",
       "    .dataframe thead th {\n",
       "        text-align: right;\n",
       "    }\n",
       "</style>\n",
       "<table border=\"1\" class=\"dataframe\">\n",
       "  <thead>\n",
       "    <tr style=\"text-align: right;\">\n",
       "      <th></th>\n",
       "      <th>Lat</th>\n",
       "      <th>Long</th>\n",
       "      <th>Confirmed</th>\n",
       "      <th>Recovered</th>\n",
       "      <th>Deaths</th>\n",
       "    </tr>\n",
       "  </thead>\n",
       "  <tbody>\n",
       "    <tr>\n",
       "      <th>Lat</th>\n",
       "      <td>1.000000</td>\n",
       "      <td>-0.119971</td>\n",
       "      <td>0.009679</td>\n",
       "      <td>-0.011689</td>\n",
       "      <td>0.041781</td>\n",
       "    </tr>\n",
       "    <tr>\n",
       "      <th>Long</th>\n",
       "      <td>-0.119971</td>\n",
       "      <td>1.000000</td>\n",
       "      <td>-0.071795</td>\n",
       "      <td>-0.059754</td>\n",
       "      <td>-0.113494</td>\n",
       "    </tr>\n",
       "    <tr>\n",
       "      <th>Confirmed</th>\n",
       "      <td>0.009679</td>\n",
       "      <td>-0.071795</td>\n",
       "      <td>1.000000</td>\n",
       "      <td>0.921559</td>\n",
       "      <td>0.910230</td>\n",
       "    </tr>\n",
       "    <tr>\n",
       "      <th>Recovered</th>\n",
       "      <td>-0.011689</td>\n",
       "      <td>-0.059754</td>\n",
       "      <td>0.921559</td>\n",
       "      <td>1.000000</td>\n",
       "      <td>0.776148</td>\n",
       "    </tr>\n",
       "    <tr>\n",
       "      <th>Deaths</th>\n",
       "      <td>0.041781</td>\n",
       "      <td>-0.113494</td>\n",
       "      <td>0.910230</td>\n",
       "      <td>0.776148</td>\n",
       "      <td>1.000000</td>\n",
       "    </tr>\n",
       "  </tbody>\n",
       "</table>\n",
       "</div>"
      ],
      "text/plain": [
       "                Lat      Long  Confirmed  Recovered    Deaths\n",
       "Lat        1.000000 -0.119971   0.009679  -0.011689  0.041781\n",
       "Long      -0.119971  1.000000  -0.071795  -0.059754 -0.113494\n",
       "Confirmed  0.009679 -0.071795   1.000000   0.921559  0.910230\n",
       "Recovered -0.011689 -0.059754   0.921559   1.000000  0.776148\n",
       "Deaths     0.041781 -0.113494   0.910230   0.776148  1.000000"
      ]
     },
     "execution_count": 26,
     "metadata": {},
     "output_type": "execute_result"
    }
   ],
   "source": [
    "data.corr()"
   ]
  },
  {
   "cell_type": "code",
   "execution_count": 27,
   "metadata": {
    "pycharm": {
     "is_executing": true,
     "name": "#%%\n"
    }
   },
   "outputs": [],
   "source": [
    "data['Date'] = pd.to_datetime(data['Date'], infer_datetime_format=True)\n",
    "data['CurrentCase'] = data['Confirmed'] - data['Recovered'] - data['Deaths']"
   ]
  },
  {
   "cell_type": "code",
   "execution_count": 28,
   "metadata": {
    "pycharm": {
     "is_executing": true,
     "name": "#%%\n"
    }
   },
   "outputs": [],
   "source": [
    "date_df = data.groupby('Date')[['Confirmed' ,'Recovered', 'Deaths', 'CurrentCase']].sum()"
   ]
  },
  {
   "cell_type": "code",
   "execution_count": 29,
   "metadata": {
    "pycharm": {
     "is_executing": true,
     "name": "#%%\n"
    }
   },
   "outputs": [
    {
     "data": {
      "image/png": "[encoded data removed]",
      "text/plain": [
       "<Figure size 1080x720 with 1 Axes>"
      ]
     },
     "metadata": {
      "needs_background": "light"
     },
     "output_type": "display_data"
    }
   ],
   "source": [
    "plt.figure(figsize=(15,10))\n",
    "plt.plot(date_df[\"Recovered\"],color='g',label='Recovered')\n",
    "plt.plot(date_df[\"Confirmed\"],color='b', label='Confirmed')\n",
    "plt.plot(date_df[\"Deaths\"],color='r',label='Deaths')\n",
    "plt.plot(date_df['CurrentCase'],color='k', label='Current cases')\n",
    "plt.title('Global Covid-19 cases over time - 2020')\n",
    "plt.legend();"
   ]
  },
  {
   "cell_type": "markdown",
   "metadata": {
    "pycharm": {
     "name": "#%% md\n"
    }
   },
   "source": [
    "**Before I start with forecasting, I would like to say a few important things and concepts about how Prophet works: <br>\n",
    "The Prophet forecasting model contains three main model components: trend, seasonality, and holidays. They are combined in the following equation:  `y(t) = g(t) + s(t) + h(t) + εt` , where<br>\n",
    "`g(t)`: piecewise linear or logistic growth curve for modelling non-periodic changes in time series<br>\n",
    "`s(t)`: periodic changes (e.g. weekly/yearly seasonality)<br>\n",
    "`h(t)`: effects of holidays (user provided) with irregular schedules<br>\n",
    "`εt`: error term accounts for any unusual changes not accommodated by the model<br>\n",
    "Prophet requires the variable names in the time series to be:<br>\n",
    "`y` – Target, must be numeric, and represents the measurement we wish to forecast.<br>\n",
    "`ds` – Datetime**"
   ]
  },
  {
   "cell_type": "code",
   "execution_count": 30,
   "metadata": {
    "pycharm": {
     "is_executing": true,
     "name": "#%%\n"
    }
   },
   "outputs": [
    {
     "data": {
      "text/plain": [
       "<fbprophet.forecaster.Prophet at 0x1881dbb5848>"
      ]
     },
     "execution_count": 30,
     "metadata": {},
     "output_type": "execute_result"
    }
   ],
   "source": [
    "model = Prophet()\n",
    "model.add_seasonality(name='Monthly', period=30.42, fourier_order=5)"
   ]
  },
  {
   "cell_type": "code",
   "execution_count": 31,
   "metadata": {
    "pycharm": {
     "is_executing": true,
     "name": "#%%\n"
    }
   },
   "outputs": [],
   "source": [
    "global_cases = date_df.reset_index()\n",
    "confirmed_df = global_cases[['Date', 'Confirmed']]\n",
    "recovered_df = global_cases[['Date', 'Recovered']]\n",
    "deaths_df = global_cases[['Date', 'Deaths']]\n",
    "current_df = global_cases[['Date', 'CurrentCase']]"
   ]
  },
  {
   "cell_type": "markdown",
   "metadata": {
    "pycharm": {
     "name": "#%% md\n"
    }
   },
   "source": [
    "**`rename_func` is a function that renames a dataframe columns name to `ds` and `y`, respectively.**"
   ]
  },
  {
   "cell_type": "code",
   "execution_count": 32,
   "metadata": {
    "pycharm": {
     "is_executing": true,
     "name": "#%%\n"
    }
   },
   "outputs": [],
   "source": [
    "def rename_func(dataframe):\n",
    "    cols = dataframe.columns\n",
    "    dataframe = dataframe.rename(columns= {cols[0]: 'ds', cols[1]:'y'})\n",
    "    return dataframe"
   ]
  },
  {
   "cell_type": "code",
   "execution_count": 33,
   "metadata": {
    "pycharm": {
     "is_executing": true,
     "name": "#%%\n"
    }
   },
   "outputs": [],
   "source": [
    "confirmed_df = rename_func(confirmed_df)\n",
    "recovered_df = rename_func(recovered_df)\n",
    "deaths_df = rename_func(deaths_df)\n",
    "current_df = rename_func(current_df)"
   ]
  },
  {
   "cell_type": "markdown",
   "metadata": {
    "pycharm": {
     "name": "#%% md\n"
    }
   },
   "source": [
    "**`train_test_split` function splits the dataset to training dataset and validation dataset by the *Pareto* principle(80:20)**"
   ]
  },
  {
   "cell_type": "code",
   "execution_count": 34,
   "metadata": {
    "pycharm": {
     "is_executing": true,
     "name": "#%%\n"
    }
   },
   "outputs": [],
   "source": [
    "def train_test_split(dataframe, ratio):\n",
    "    divisor = round((ratio/100)*dataframe.shape[0])\n",
    "    train = dataframe.iloc[:divisor]\n",
    "    test = dataframe.iloc[divisor:]\n",
    "    return train, test, divisor"
   ]
  },
  {
   "cell_type": "markdown",
   "metadata": {
    "pycharm": {
     "name": "#%% md\n"
    }
   },
   "source": [
    "**`check_metrics` function caluclates the root squared error.<br> *R2(root sqared error)* is also called *coefficient of determination*. Coefficient of determination normally ranges from 0 to 1. That value is a statistical measure of how well the regression predictions approximate the real data points. <br>An R2 of 1 indicates that the regression predictions perfectly fit the data.**"
   ]
  },
  {
   "cell_type": "code",
   "execution_count": 35,
   "metadata": {
    "pycharm": {
     "is_executing": true,
     "name": "#%%\n"
    }
   },
   "outputs": [],
   "source": [
    "def check_metrics(test, predictions):\n",
    "    R2_score = r2_score(test['y'],predictions['yhat'].iloc[divisor:])\n",
    "    print(f\"R-square Score: {R2_score}\")"
   ]
  },
  {
   "cell_type": "markdown",
   "metadata": {
    "pycharm": {
     "name": "#%% md\n"
    }
   },
   "source": [
    "**Predicting the number of confirmed cases of novel coronavirus disease - WORLD**"
   ]
  },
  {
   "cell_type": "code",
   "execution_count": 36,
   "metadata": {
    "pycharm": {
     "is_executing": true,
     "name": "#%%\n"
    }
   },
   "outputs": [
    {
     "name": "stderr",
     "output_type": "stream",
     "text": [
      "INFO:fbprophet:Disabling yearly seasonality. Run prophet with yearly_seasonality=True to override this.\n",
      "INFO:fbprophet:Disabling daily seasonality. Run prophet with daily_seasonality=True to override this.\n"
     ]
    },
    {
     "data": {
      "text/html": [
       "<div>\n",
       "<style scoped>\n",
       "    .dataframe tbody tr th:only-of-type {\n",
       "        vertical-align: middle;\n",
       "    }\n",
       "\n",
       "    .dataframe tbody tr th {\n",
       "        vertical-align: top;\n",
       "    }\n",
       "\n",
       "    .dataframe thead th {\n",
       "        text-align: right;\n",
       "    }\n",
       "</style>\n",
       "<table border=\"1\" class=\"dataframe\">\n",
       "  <thead>\n",
       "    <tr style=\"text-align: right;\">\n",
       "      <th></th>\n",
       "      <th>ds</th>\n",
       "      <th>trend</th>\n",
       "      <th>yhat_lower</th>\n",
       "      <th>yhat_upper</th>\n",
       "      <th>trend_lower</th>\n",
       "      <th>trend_upper</th>\n",
       "      <th>Monthly</th>\n",
       "      <th>Monthly_lower</th>\n",
       "      <th>Monthly_upper</th>\n",
       "      <th>additive_terms</th>\n",
       "      <th>additive_terms_lower</th>\n",
       "      <th>additive_terms_upper</th>\n",
       "      <th>weekly</th>\n",
       "      <th>weekly_lower</th>\n",
       "      <th>weekly_upper</th>\n",
       "      <th>multiplicative_terms</th>\n",
       "      <th>multiplicative_terms_lower</th>\n",
       "      <th>multiplicative_terms_upper</th>\n",
       "      <th>yhat</th>\n",
       "    </tr>\n",
       "  </thead>\n",
       "  <tbody>\n",
       "    <tr>\n",
       "      <th>258</th>\n",
       "      <td>2020-10-06</td>\n",
       "      <td>3.421929e+07</td>\n",
       "      <td>3.262720e+07</td>\n",
       "      <td>3.601982e+07</td>\n",
       "      <td>3.260922e+07</td>\n",
       "      <td>3.592742e+07</td>\n",
       "      <td>71438.434424</td>\n",
       "      <td>71438.434424</td>\n",
       "      <td>71438.434424</td>\n",
       "      <td>62556.041993</td>\n",
       "      <td>62556.041993</td>\n",
       "      <td>62556.041993</td>\n",
       "      <td>-8882.392431</td>\n",
       "      <td>-8882.392431</td>\n",
       "      <td>-8882.392431</td>\n",
       "      <td>0.0</td>\n",
       "      <td>0.0</td>\n",
       "      <td>0.0</td>\n",
       "      <td>3.428184e+07</td>\n",
       "    </tr>\n",
       "    <tr>\n",
       "      <th>259</th>\n",
       "      <td>2020-10-07</td>\n",
       "      <td>3.446758e+07</td>\n",
       "      <td>3.283995e+07</td>\n",
       "      <td>3.627522e+07</td>\n",
       "      <td>3.277149e+07</td>\n",
       "      <td>3.622935e+07</td>\n",
       "      <td>76575.909138</td>\n",
       "      <td>76575.909138</td>\n",
       "      <td>76575.909138</td>\n",
       "      <td>68225.511394</td>\n",
       "      <td>68225.511394</td>\n",
       "      <td>68225.511394</td>\n",
       "      <td>-8350.397744</td>\n",
       "      <td>-8350.397744</td>\n",
       "      <td>-8350.397744</td>\n",
       "      <td>0.0</td>\n",
       "      <td>0.0</td>\n",
       "      <td>0.0</td>\n",
       "      <td>3.453581e+07</td>\n",
       "    </tr>\n",
       "    <tr>\n",
       "      <th>260</th>\n",
       "      <td>2020-10-08</td>\n",
       "      <td>3.471587e+07</td>\n",
       "      <td>3.300620e+07</td>\n",
       "      <td>3.663871e+07</td>\n",
       "      <td>3.292912e+07</td>\n",
       "      <td>3.653137e+07</td>\n",
       "      <td>75361.023001</td>\n",
       "      <td>75361.023001</td>\n",
       "      <td>75361.023001</td>\n",
       "      <td>75688.676134</td>\n",
       "      <td>75688.676134</td>\n",
       "      <td>75688.676134</td>\n",
       "      <td>327.653133</td>\n",
       "      <td>327.653133</td>\n",
       "      <td>327.653133</td>\n",
       "      <td>0.0</td>\n",
       "      <td>0.0</td>\n",
       "      <td>0.0</td>\n",
       "      <td>3.479156e+07</td>\n",
       "    </tr>\n",
       "    <tr>\n",
       "      <th>261</th>\n",
       "      <td>2020-10-09</td>\n",
       "      <td>3.496417e+07</td>\n",
       "      <td>3.318494e+07</td>\n",
       "      <td>3.691632e+07</td>\n",
       "      <td>3.313109e+07</td>\n",
       "      <td>3.681855e+07</td>\n",
       "      <td>68788.709725</td>\n",
       "      <td>68788.709725</td>\n",
       "      <td>68788.709725</td>\n",
       "      <td>79512.341484</td>\n",
       "      <td>79512.341484</td>\n",
       "      <td>79512.341484</td>\n",
       "      <td>10723.631758</td>\n",
       "      <td>10723.631758</td>\n",
       "      <td>10723.631758</td>\n",
       "      <td>0.0</td>\n",
       "      <td>0.0</td>\n",
       "      <td>0.0</td>\n",
       "      <td>3.504368e+07</td>\n",
       "    </tr>\n",
       "    <tr>\n",
       "      <th>262</th>\n",
       "      <td>2020-10-10</td>\n",
       "      <td>3.521246e+07</td>\n",
       "      <td>3.338436e+07</td>\n",
       "      <td>3.720792e+07</td>\n",
       "      <td>3.331398e+07</td>\n",
       "      <td>3.716696e+07</td>\n",
       "      <td>59233.901961</td>\n",
       "      <td>59233.901961</td>\n",
       "      <td>59233.901961</td>\n",
       "      <td>71816.102221</td>\n",
       "      <td>71816.102221</td>\n",
       "      <td>71816.102221</td>\n",
       "      <td>12582.200260</td>\n",
       "      <td>12582.200260</td>\n",
       "      <td>12582.200260</td>\n",
       "      <td>0.0</td>\n",
       "      <td>0.0</td>\n",
       "      <td>0.0</td>\n",
       "      <td>3.528428e+07</td>\n",
       "    </tr>\n",
       "  </tbody>\n",
       "</table>\n",
       "</div>"
      ],
      "text/plain": [
       "            ds         trend    yhat_lower    yhat_upper   trend_lower  \\\n",
       "258 2020-10-06  3.421929e+07  3.262720e+07  3.601982e+07  3.260922e+07   \n",
       "259 2020-10-07  3.446758e+07  3.283995e+07  3.627522e+07  3.277149e+07   \n",
       "260 2020-10-08  3.471587e+07  3.300620e+07  3.663871e+07  3.292912e+07   \n",
       "261 2020-10-09  3.496417e+07  3.318494e+07  3.691632e+07  3.313109e+07   \n",
       "262 2020-10-10  3.521246e+07  3.338436e+07  3.720792e+07  3.331398e+07   \n",
       "\n",
       "      trend_upper       Monthly  Monthly_lower  Monthly_upper  additive_terms  \\\n",
       "258  3.592742e+07  71438.434424   71438.434424   71438.434424    62556.041993   \n",
       "259  3.622935e+07  76575.909138   76575.909138   76575.909138    68225.511394   \n",
       "260  3.653137e+07  75361.023001   75361.023001   75361.023001    75688.676134   \n",
       "261  3.681855e+07  68788.709725   68788.709725   68788.709725    79512.341484   \n",
       "262  3.716696e+07  59233.901961   59233.901961   59233.901961    71816.102221   \n",
       "\n",
       "     additive_terms_lower  additive_terms_upper        weekly  weekly_lower  \\\n",
       "258          62556.041993          62556.041993  -8882.392431  -8882.392431   \n",
       "259          68225.511394          68225.511394  -8350.397744  -8350.397744   \n",
       "260          75688.676134          75688.676134    327.653133    327.653133   \n",
       "261          79512.341484          79512.341484  10723.631758  10723.631758   \n",
       "262          71816.102221          71816.102221  12582.200260  12582.200260   \n",
       "\n",
       "     weekly_upper  multiplicative_terms  multiplicative_terms_lower  \\\n",
       "258  -8882.392431                   0.0                         0.0   \n",
       "259  -8350.397744                   0.0                         0.0   \n",
       "260    327.653133                   0.0                         0.0   \n",
       "261  10723.631758                   0.0                         0.0   \n",
       "262  12582.200260                   0.0                         0.0   \n",
       "\n",
       "     multiplicative_terms_upper          yhat  \n",
       "258                         0.0  3.428184e+07  \n",
       "259                         0.0  3.453581e+07  \n",
       "260                         0.0  3.479156e+07  \n",
       "261                         0.0  3.504368e+07  \n",
       "262                         0.0  3.528428e+07  "
      ]
     },
     "execution_count": 36,
     "metadata": {},
     "output_type": "execute_result"
    }
   ],
   "source": [
    "# World\n",
    "data_world = rename_func(confirmed_df)\n",
    "m = Prophet()\n",
    "m.add_seasonality(name='Monthly', period=30.42, fourier_order=5)\n",
    "daily_new_train, daily_new_test, divisor = train_test_split(data_world, 80)\n",
    "daily_new_train.shape , daily_new_test.shape\n",
    "m.fit(daily_new_train)\n",
    "future_dates_world = m.make_future_dataframe(periods=53)\n",
    "predictions_world = m.predict(future_dates_world)\n",
    "predictions_world.tail()\n"
   ]
  },
  {
   "cell_type": "code",
   "execution_count": 37,
   "metadata": {
    "pycharm": {
     "is_executing": true,
     "name": "#%%\n"
    }
   },
   "outputs": [
    {
     "data": {
      "text/html": [
       "<div>\n",
       "<style scoped>\n",
       "    .dataframe tbody tr th:only-of-type {\n",
       "        vertical-align: middle;\n",
       "    }\n",
       "\n",
       "    .dataframe tbody tr th {\n",
       "        vertical-align: top;\n",
       "    }\n",
       "\n",
       "    .dataframe thead th {\n",
       "        text-align: right;\n",
       "    }\n",
       "</style>\n",
       "<table border=\"1\" class=\"dataframe\">\n",
       "  <thead>\n",
       "    <tr style=\"text-align: right;\">\n",
       "      <th></th>\n",
       "      <th>ds</th>\n",
       "      <th>y</th>\n",
       "    </tr>\n",
       "  </thead>\n",
       "  <tbody>\n",
       "    <tr>\n",
       "      <th>205</th>\n",
       "      <td>2020-08-14</td>\n",
       "      <td>21206137</td>\n",
       "    </tr>\n",
       "    <tr>\n",
       "      <th>206</th>\n",
       "      <td>2020-08-15</td>\n",
       "      <td>21454001</td>\n",
       "    </tr>\n",
       "    <tr>\n",
       "      <th>207</th>\n",
       "      <td>2020-08-16</td>\n",
       "      <td>21666057</td>\n",
       "    </tr>\n",
       "    <tr>\n",
       "      <th>208</th>\n",
       "      <td>2020-08-17</td>\n",
       "      <td>21876108</td>\n",
       "    </tr>\n",
       "    <tr>\n",
       "      <th>209</th>\n",
       "      <td>2020-08-18</td>\n",
       "      <td>22132478</td>\n",
       "    </tr>\n",
       "  </tbody>\n",
       "</table>\n",
       "</div>"
      ],
      "text/plain": [
       "            ds         y\n",
       "205 2020-08-14  21206137\n",
       "206 2020-08-15  21454001\n",
       "207 2020-08-16  21666057\n",
       "208 2020-08-17  21876108\n",
       "209 2020-08-18  22132478"
      ]
     },
     "execution_count": 37,
     "metadata": {},
     "output_type": "execute_result"
    }
   ],
   "source": [
    "daily_new_train.tail()"
   ]
  },
  {
   "cell_type": "code",
   "execution_count": 38,
   "metadata": {
    "pycharm": {
     "is_executing": true,
     "name": "#%%\n"
    }
   },
   "outputs": [
    {
     "data": {
      "text/html": [
       "<div>\n",
       "<style scoped>\n",
       "    .dataframe tbody tr th:only-of-type {\n",
       "        vertical-align: middle;\n",
       "    }\n",
       "\n",
       "    .dataframe tbody tr th {\n",
       "        vertical-align: top;\n",
       "    }\n",
       "\n",
       "    .dataframe thead th {\n",
       "        text-align: right;\n",
       "    }\n",
       "</style>\n",
       "<table border=\"1\" class=\"dataframe\">\n",
       "  <thead>\n",
       "    <tr style=\"text-align: right;\">\n",
       "      <th></th>\n",
       "      <th>ds</th>\n",
       "      <th>trend</th>\n",
       "      <th>yhat_lower</th>\n",
       "      <th>yhat_upper</th>\n",
       "      <th>trend_lower</th>\n",
       "      <th>trend_upper</th>\n",
       "      <th>Monthly</th>\n",
       "      <th>Monthly_lower</th>\n",
       "      <th>Monthly_upper</th>\n",
       "      <th>additive_terms</th>\n",
       "      <th>additive_terms_lower</th>\n",
       "      <th>additive_terms_upper</th>\n",
       "      <th>weekly</th>\n",
       "      <th>weekly_lower</th>\n",
       "      <th>weekly_upper</th>\n",
       "      <th>multiplicative_terms</th>\n",
       "      <th>multiplicative_terms_lower</th>\n",
       "      <th>multiplicative_terms_upper</th>\n",
       "      <th>yhat</th>\n",
       "    </tr>\n",
       "  </thead>\n",
       "  <tbody>\n",
       "    <tr>\n",
       "      <th>258</th>\n",
       "      <td>2020-10-06</td>\n",
       "      <td>3.421929e+07</td>\n",
       "      <td>3.262720e+07</td>\n",
       "      <td>3.601982e+07</td>\n",
       "      <td>3.260922e+07</td>\n",
       "      <td>3.592742e+07</td>\n",
       "      <td>71438.434424</td>\n",
       "      <td>71438.434424</td>\n",
       "      <td>71438.434424</td>\n",
       "      <td>62556.041993</td>\n",
       "      <td>62556.041993</td>\n",
       "      <td>62556.041993</td>\n",
       "      <td>-8882.392431</td>\n",
       "      <td>-8882.392431</td>\n",
       "      <td>-8882.392431</td>\n",
       "      <td>0.0</td>\n",
       "      <td>0.0</td>\n",
       "      <td>0.0</td>\n",
       "      <td>3.428184e+07</td>\n",
       "    </tr>\n",
       "    <tr>\n",
       "      <th>259</th>\n",
       "      <td>2020-10-07</td>\n",
       "      <td>3.446758e+07</td>\n",
       "      <td>3.283995e+07</td>\n",
       "      <td>3.627522e+07</td>\n",
       "      <td>3.277149e+07</td>\n",
       "      <td>3.622935e+07</td>\n",
       "      <td>76575.909138</td>\n",
       "      <td>76575.909138</td>\n",
       "      <td>76575.909138</td>\n",
       "      <td>68225.511394</td>\n",
       "      <td>68225.511394</td>\n",
       "      <td>68225.511394</td>\n",
       "      <td>-8350.397744</td>\n",
       "      <td>-8350.397744</td>\n",
       "      <td>-8350.397744</td>\n",
       "      <td>0.0</td>\n",
       "      <td>0.0</td>\n",
       "      <td>0.0</td>\n",
       "      <td>3.453581e+07</td>\n",
       "    </tr>\n",
       "    <tr>\n",
       "      <th>260</th>\n",
       "      <td>2020-10-08</td>\n",
       "      <td>3.471587e+07</td>\n",
       "      <td>3.300620e+07</td>\n",
       "      <td>3.663871e+07</td>\n",
       "      <td>3.292912e+07</td>\n",
       "      <td>3.653137e+07</td>\n",
       "      <td>75361.023001</td>\n",
       "      <td>75361.023001</td>\n",
       "      <td>75361.023001</td>\n",
       "      <td>75688.676134</td>\n",
       "      <td>75688.676134</td>\n",
       "      <td>75688.676134</td>\n",
       "      <td>327.653133</td>\n",
       "      <td>327.653133</td>\n",
       "      <td>327.653133</td>\n",
       "      <td>0.0</td>\n",
       "      <td>0.0</td>\n",
       "      <td>0.0</td>\n",
       "      <td>3.479156e+07</td>\n",
       "    </tr>\n",
       "    <tr>\n",
       "      <th>261</th>\n",
       "      <td>2020-10-09</td>\n",
       "      <td>3.496417e+07</td>\n",
       "      <td>3.318494e+07</td>\n",
       "      <td>3.691632e+07</td>\n",
       "      <td>3.313109e+07</td>\n",
       "      <td>3.681855e+07</td>\n",
       "      <td>68788.709725</td>\n",
       "      <td>68788.709725</td>\n",
       "      <td>68788.709725</td>\n",
       "      <td>79512.341484</td>\n",
       "      <td>79512.341484</td>\n",
       "      <td>79512.341484</td>\n",
       "      <td>10723.631758</td>\n",
       "      <td>10723.631758</td>\n",
       "      <td>10723.631758</td>\n",
       "      <td>0.0</td>\n",
       "      <td>0.0</td>\n",
       "      <td>0.0</td>\n",
       "      <td>3.504368e+07</td>\n",
       "    </tr>\n",
       "    <tr>\n",
       "      <th>262</th>\n",
       "      <td>2020-10-10</td>\n",
       "      <td>3.521246e+07</td>\n",
       "      <td>3.338436e+07</td>\n",
       "      <td>3.720792e+07</td>\n",
       "      <td>3.331398e+07</td>\n",
       "      <td>3.716696e+07</td>\n",
       "      <td>59233.901961</td>\n",
       "      <td>59233.901961</td>\n",
       "      <td>59233.901961</td>\n",
       "      <td>71816.102221</td>\n",
       "      <td>71816.102221</td>\n",
       "      <td>71816.102221</td>\n",
       "      <td>12582.200260</td>\n",
       "      <td>12582.200260</td>\n",
       "      <td>12582.200260</td>\n",
       "      <td>0.0</td>\n",
       "      <td>0.0</td>\n",
       "      <td>0.0</td>\n",
       "      <td>3.528428e+07</td>\n",
       "    </tr>\n",
       "  </tbody>\n",
       "</table>\n",
       "</div>"
      ],
      "text/plain": [
       "            ds         trend    yhat_lower    yhat_upper   trend_lower  \\\n",
       "258 2020-10-06  3.421929e+07  3.262720e+07  3.601982e+07  3.260922e+07   \n",
       "259 2020-10-07  3.446758e+07  3.283995e+07  3.627522e+07  3.277149e+07   \n",
       "260 2020-10-08  3.471587e+07  3.300620e+07  3.663871e+07  3.292912e+07   \n",
       "261 2020-10-09  3.496417e+07  3.318494e+07  3.691632e+07  3.313109e+07   \n",
       "262 2020-10-10  3.521246e+07  3.338436e+07  3.720792e+07  3.331398e+07   \n",
       "\n",
       "      trend_upper       Monthly  Monthly_lower  Monthly_upper  additive_terms  \\\n",
       "258  3.592742e+07  71438.434424   71438.434424   71438.434424    62556.041993   \n",
       "259  3.622935e+07  76575.909138   76575.909138   76575.909138    68225.511394   \n",
       "260  3.653137e+07  75361.023001   75361.023001   75361.023001    75688.676134   \n",
       "261  3.681855e+07  68788.709725   68788.709725   68788.709725    79512.341484   \n",
       "262  3.716696e+07  59233.901961   59233.901961   59233.901961    71816.102221   \n",
       "\n",
       "     additive_terms_lower  additive_terms_upper        weekly  weekly_lower  \\\n",
       "258          62556.041993          62556.041993  -8882.392431  -8882.392431   \n",
       "259          68225.511394          68225.511394  -8350.397744  -8350.397744   \n",
       "260          75688.676134          75688.676134    327.653133    327.653133   \n",
       "261          79512.341484          79512.341484  10723.631758  10723.631758   \n",
       "262          71816.102221          71816.102221  12582.200260  12582.200260   \n",
       "\n",
       "     weekly_upper  multiplicative_terms  multiplicative_terms_lower  \\\n",
       "258  -8882.392431                   0.0                         0.0   \n",
       "259  -8350.397744                   0.0                         0.0   \n",
       "260    327.653133                   0.0                         0.0   \n",
       "261  10723.631758                   0.0                         0.0   \n",
       "262  12582.200260                   0.0                         0.0   \n",
       "\n",
       "     multiplicative_terms_upper          yhat  \n",
       "258                         0.0  3.428184e+07  \n",
       "259                         0.0  3.453581e+07  \n",
       "260                         0.0  3.479156e+07  \n",
       "261                         0.0  3.504368e+07  \n",
       "262                         0.0  3.528428e+07  "
      ]
     },
     "execution_count": 38,
     "metadata": {},
     "output_type": "execute_result"
    }
   ],
   "source": [
    "predictions_world.tail()"
   ]
  },
  {
   "cell_type": "code",
   "execution_count": 39,
   "metadata": {
    "pycharm": {
     "is_executing": true,
     "name": "#%%\n"
    }
   },
   "outputs": [
    {
     "name": "stdout",
     "output_type": "stream",
     "text": [
      "R-square Score: 0.958036398948873\n"
     ]
    },
    {
     "data": {
      "image/png": "[encoded data removed]",
      "text/plain": [
       "<Figure size 720x432 with 1 Axes>"
      ]
     },
     "metadata": {},
     "output_type": "display_data"
    },
    {
     "data": {
      "image/png": "[encoded data removed]",
      "text/plain": [
       "<Figure size 648x648 with 3 Axes>"
      ]
     },
     "metadata": {},
     "output_type": "display_data"
    }
   ],
   "source": [
    "m.plot(predictions_world);\n",
    "m.plot_components(predictions_world);\n",
    "check_metrics(daily_new_test, predictions_world)"
   ]
  },
  {
   "cell_type": "markdown",
   "metadata": {
    "pycharm": {
     "name": "#%% md\n"
    }
   },
   "source": [
    "**Predicting the number of confirmed cases of novel coronavirus disease - NORTH MACEDONIA**"
   ]
  },
  {
   "cell_type": "code",
   "execution_count": 40,
   "metadata": {
    "pycharm": {
     "is_executing": true,
     "name": "#%%\n"
    }
   },
   "outputs": [
    {
     "name": "stderr",
     "output_type": "stream",
     "text": [
      "INFO:fbprophet:Disabling yearly seasonality. Run prophet with yearly_seasonality=True to override this.\n",
      "INFO:fbprophet:Disabling daily seasonality. Run prophet with daily_seasonality=True to override this.\n"
     ]
    },
    {
     "data": {
      "text/html": [
       "<div>\n",
       "<style scoped>\n",
       "    .dataframe tbody tr th:only-of-type {\n",
       "        vertical-align: middle;\n",
       "    }\n",
       "\n",
       "    .dataframe tbody tr th {\n",
       "        vertical-align: top;\n",
       "    }\n",
       "\n",
       "    .dataframe thead th {\n",
       "        text-align: right;\n",
       "    }\n",
       "</style>\n",
       "<table border=\"1\" class=\"dataframe\">\n",
       "  <thead>\n",
       "    <tr style=\"text-align: right;\">\n",
       "      <th></th>\n",
       "      <th>ds</th>\n",
       "      <th>trend</th>\n",
       "      <th>yhat_lower</th>\n",
       "      <th>yhat_upper</th>\n",
       "      <th>trend_lower</th>\n",
       "      <th>trend_upper</th>\n",
       "      <th>Monthly</th>\n",
       "      <th>Monthly_lower</th>\n",
       "      <th>Monthly_upper</th>\n",
       "      <th>additive_terms</th>\n",
       "      <th>additive_terms_lower</th>\n",
       "      <th>additive_terms_upper</th>\n",
       "      <th>weekly</th>\n",
       "      <th>weekly_lower</th>\n",
       "      <th>weekly_upper</th>\n",
       "      <th>multiplicative_terms</th>\n",
       "      <th>multiplicative_terms_lower</th>\n",
       "      <th>multiplicative_terms_upper</th>\n",
       "      <th>yhat</th>\n",
       "    </tr>\n",
       "  </thead>\n",
       "  <tbody>\n",
       "    <tr>\n",
       "      <th>258</th>\n",
       "      <td>2020-10-06</td>\n",
       "      <td>118.272101</td>\n",
       "      <td>63.075292</td>\n",
       "      <td>146.128478</td>\n",
       "      <td>116.001174</td>\n",
       "      <td>120.179826</td>\n",
       "      <td>-5.725443</td>\n",
       "      <td>-5.725443</td>\n",
       "      <td>-5.725443</td>\n",
       "      <td>-13.405206</td>\n",
       "      <td>-13.405206</td>\n",
       "      <td>-13.405206</td>\n",
       "      <td>-7.679763</td>\n",
       "      <td>-7.679763</td>\n",
       "      <td>-7.679763</td>\n",
       "      <td>0.0</td>\n",
       "      <td>0.0</td>\n",
       "      <td>0.0</td>\n",
       "      <td>104.866895</td>\n",
       "    </tr>\n",
       "    <tr>\n",
       "      <th>259</th>\n",
       "      <td>2020-10-07</td>\n",
       "      <td>118.168418</td>\n",
       "      <td>72.718962</td>\n",
       "      <td>153.995996</td>\n",
       "      <td>115.706223</td>\n",
       "      <td>120.216690</td>\n",
       "      <td>-6.163586</td>\n",
       "      <td>-6.163586</td>\n",
       "      <td>-6.163586</td>\n",
       "      <td>-4.570085</td>\n",
       "      <td>-4.570085</td>\n",
       "      <td>-4.570085</td>\n",
       "      <td>1.593502</td>\n",
       "      <td>1.593502</td>\n",
       "      <td>1.593502</td>\n",
       "      <td>0.0</td>\n",
       "      <td>0.0</td>\n",
       "      <td>0.0</td>\n",
       "      <td>113.598334</td>\n",
       "    </tr>\n",
       "    <tr>\n",
       "      <th>260</th>\n",
       "      <td>2020-10-08</td>\n",
       "      <td>118.064736</td>\n",
       "      <td>83.637917</td>\n",
       "      <td>165.165650</td>\n",
       "      <td>115.484312</td>\n",
       "      <td>120.195812</td>\n",
       "      <td>-1.654861</td>\n",
       "      <td>-1.654861</td>\n",
       "      <td>-1.654861</td>\n",
       "      <td>5.064967</td>\n",
       "      <td>5.064967</td>\n",
       "      <td>5.064967</td>\n",
       "      <td>6.719828</td>\n",
       "      <td>6.719828</td>\n",
       "      <td>6.719828</td>\n",
       "      <td>0.0</td>\n",
       "      <td>0.0</td>\n",
       "      <td>0.0</td>\n",
       "      <td>123.129703</td>\n",
       "    </tr>\n",
       "    <tr>\n",
       "      <th>261</th>\n",
       "      <td>2020-10-09</td>\n",
       "      <td>117.961053</td>\n",
       "      <td>96.994563</td>\n",
       "      <td>175.260746</td>\n",
       "      <td>115.210725</td>\n",
       "      <td>120.246271</td>\n",
       "      <td>5.267760</td>\n",
       "      <td>5.267760</td>\n",
       "      <td>5.267760</td>\n",
       "      <td>16.705969</td>\n",
       "      <td>16.705969</td>\n",
       "      <td>16.705969</td>\n",
       "      <td>11.438208</td>\n",
       "      <td>11.438208</td>\n",
       "      <td>11.438208</td>\n",
       "      <td>0.0</td>\n",
       "      <td>0.0</td>\n",
       "      <td>0.0</td>\n",
       "      <td>134.667022</td>\n",
       "    </tr>\n",
       "    <tr>\n",
       "      <th>262</th>\n",
       "      <td>2020-10-10</td>\n",
       "      <td>117.857371</td>\n",
       "      <td>104.418163</td>\n",
       "      <td>184.990762</td>\n",
       "      <td>115.003220</td>\n",
       "      <td>120.346285</td>\n",
       "      <td>10.180198</td>\n",
       "      <td>10.180198</td>\n",
       "      <td>10.180198</td>\n",
       "      <td>24.595295</td>\n",
       "      <td>24.595295</td>\n",
       "      <td>24.595295</td>\n",
       "      <td>14.415096</td>\n",
       "      <td>14.415096</td>\n",
       "      <td>14.415096</td>\n",
       "      <td>0.0</td>\n",
       "      <td>0.0</td>\n",
       "      <td>0.0</td>\n",
       "      <td>142.452666</td>\n",
       "    </tr>\n",
       "  </tbody>\n",
       "</table>\n",
       "</div>"
      ],
      "text/plain": [
       "            ds       trend  yhat_lower  yhat_upper  trend_lower  trend_upper  \\\n",
       "258 2020-10-06  118.272101   63.075292  146.128478   116.001174   120.179826   \n",
       "259 2020-10-07  118.168418   72.718962  153.995996   115.706223   120.216690   \n",
       "260 2020-10-08  118.064736   83.637917  165.165650   115.484312   120.195812   \n",
       "261 2020-10-09  117.961053   96.994563  175.260746   115.210725   120.246271   \n",
       "262 2020-10-10  117.857371  104.418163  184.990762   115.003220   120.346285   \n",
       "\n",
       "       Monthly  Monthly_lower  Monthly_upper  additive_terms  \\\n",
       "258  -5.725443      -5.725443      -5.725443      -13.405206   \n",
       "259  -6.163586      -6.163586      -6.163586       -4.570085   \n",
       "260  -1.654861      -1.654861      -1.654861        5.064967   \n",
       "261   5.267760       5.267760       5.267760       16.705969   \n",
       "262  10.180198      10.180198      10.180198       24.595295   \n",
       "\n",
       "     additive_terms_lower  additive_terms_upper     weekly  weekly_lower  \\\n",
       "258            -13.405206            -13.405206  -7.679763     -7.679763   \n",
       "259             -4.570085             -4.570085   1.593502      1.593502   \n",
       "260              5.064967              5.064967   6.719828      6.719828   \n",
       "261             16.705969             16.705969  11.438208     11.438208   \n",
       "262             24.595295             24.595295  14.415096     14.415096   \n",
       "\n",
       "     weekly_upper  multiplicative_terms  multiplicative_terms_lower  \\\n",
       "258     -7.679763                   0.0                         0.0   \n",
       "259      1.593502                   0.0                         0.0   \n",
       "260      6.719828                   0.0                         0.0   \n",
       "261     11.438208                   0.0                         0.0   \n",
       "262     14.415096                   0.0                         0.0   \n",
       "\n",
       "     multiplicative_terms_upper        yhat  \n",
       "258                         0.0  104.866895  \n",
       "259                         0.0  113.598334  \n",
       "260                         0.0  123.129703  \n",
       "261                         0.0  134.667022  \n",
       "262                         0.0  142.452666  "
      ]
     },
     "execution_count": 40,
     "metadata": {},
     "output_type": "execute_result"
    }
   ],
   "source": [
    "# Macedonia\n",
    "data_macedonia = df[['DATE','DAILY NEW CASES']]\n",
    "data_macedonia.columns = ['ds','y']\n",
    "m = Prophet()\n",
    "m.add_seasonality(name='Monthly', period=30.42, fourier_order=5)\n",
    "daily_new_train, daily_new_test, divisor = train_test_split(data_macedonia, 90)\n",
    "daily_new_train.shape , daily_new_test.shape\n",
    "m.fit(daily_new_train)\n",
    "future_dates_mk = m.make_future_dataframe(periods=26)\n",
    "predictions_mk = m.predict(future_dates_mk)\n",
    "predictions_mk.tail()"
   ]
  },
  {
   "cell_type": "code",
   "execution_count": 41,
   "metadata": {
    "pycharm": {
     "is_executing": true,
     "name": "#%%\n"
    }
   },
   "outputs": [
    {
     "name": "stdout",
     "output_type": "stream",
     "text": [
      "R-square Score: -0.3076128571461205\n"
     ]
    },
    {
     "data": {
      "image/png": "[encoded data removed]",
      "text/plain": [
       "<Figure size 720x432 with 1 Axes>"
      ]
     },
     "metadata": {},
     "output_type": "display_data"
    },
    {
     "data": {
      "image/png": "[encoded data removed]",
      "text/plain": [
       "<Figure size 648x648 with 3 Axes>"
      ]
     },
     "metadata": {},
     "output_type": "display_data"
    }
   ],
   "source": [
    "m.plot(predictions_mk);\n",
    "m.plot_components(predictions_mk);\n",
    "check_metrics(daily_new_test, predictions_mk)"
   ]
  },
  {
   "cell_type": "markdown",
   "metadata": {
    "pycharm": {
     "name": "#%% md\n"
    }
   },
   "source": [
    "**Covid-19 forecasting using ARIMA model<br>\n",
    "`ARIMA: AR-Autoregression, I-Integrated, MA-Moving Average`<br>\n",
    "`Autoregression (AR)` refers to a model that shows a changing variable that regresses on its own lagged, or prior, values.<br>\n",
    "`Integrated (I)` represents the differencing of raw observations to allow for the time series to become stationary, i.e., data values are replaced by the difference between the data values and the previous values.<br>\n",
    "`Moving average (MA)` incorporates the dependency between an observation and a residual error from a moving average model applied to lagged observations.<br>\n",
    "When a time series is stationary, it can be easier to model. Statistical modeling methods assume or require the time series to be stationary to be effective.<br>\n",
    "To check if the data is statinary, I used `Augmented Dickey–Fuller test (ADF) test`. <br>\n",
    "`Null Hypothesis (H0)`: It suggests the time series has a unit root, meaning it is non-stationary. It has some time dependent structure.<br>\n",
    "`Alternate Hypothesis (H1)`: The null hypothesis is rejected; it suggests the time series does not have a unit root, meaning it is stationary. It does not have time-dependent structure.<br>\n",
    "The result from the test is the p-value. <br>\n",
    "If `p-value > 0.05:` Fail to reject the null hypothesis (H0), the data has a unit root and is non-stationary.<br>\n",
    "If `p-value <= 0.05:` Reject the null hypothesis (H0), the data does not have a unit root and is stationary.**\n"
   ]
  },
  {
   "cell_type": "code",
   "execution_count": 36,
   "metadata": {
    "pycharm": {
     "is_executing": true,
     "name": "#%%\n"
    }
   },
   "outputs": [
    {
     "name": "stdout",
     "output_type": "stream",
     "text": [
      "ADF Statistic: 0.324865\n",
      "p-value: 0.978457\n"
     ]
    }
   ],
   "source": [
    "from statsmodels.tsa.stattools import adfuller\n",
    "macedonia_dataframe = df[['DATE','DAILY NEW CASES']]\n",
    "macedonia_dataframe['DATE']=pd.to_datetime(macedonia_dataframe['DATE'])\n",
    "macedonia_dataframe.set_index('DATE', inplace=True)\n",
    "result = adfuller(macedonia_dataframe.dropna())\n",
    "print('ADF Statistic: %f' % result[0])\n",
    "print('p-value: %f' % result[1])"
   ]
  },
  {
   "cell_type": "markdown",
   "metadata": {
    "pycharm": {
     "name": "#%% md\n"
    }
   },
   "source": [
    "**After running the previous cell, we can see that the p-value is `0.97` which tells us that the data is not stationary and we have to make manual implementation of the differencing operation. <br>Then, to train any machine learning model irrespective what type of dataset is being used you have to split the dataset into training data and testing(validation) data.**"
   ]
  },
  {
   "cell_type": "code",
   "execution_count": 37,
   "metadata": {
    "pycharm": {
     "is_executing": true
    }
   },
   "outputs": [
    {
     "data": {
      "image/png": "[encoded data removed]",
      "text/plain": [
       "<Figure size 720x864 with 1 Axes>"
      ]
     },
     "metadata": {},
     "output_type": "display_data"
    },
    {
     "data": {
      "image/png": "[encoded data removed]",
      "text/plain": [
       "<Figure size 720x864 with 1 Axes>"
      ]
     },
     "metadata": {},
     "output_type": "display_data"
    }
   ],
   "source": [
    "plot_pacf(macedonia_dataframe['DAILY NEW CASES']);\n",
    "plot_acf(macedonia_dataframe['DAILY NEW CASES']);"
   ]
  },
  {
   "cell_type": "code",
   "execution_count": 38,
   "metadata": {
    "pycharm": {
     "is_executing": true,
     "name": "#%%\n"
    }
   },
   "outputs": [],
   "source": [
    "#ARIMA\n",
    "macedonia_dataframe['stationary']=macedonia_dataframe['DAILY NEW CASES'].diff()\n",
    "split = round((80/100)*macedonia_dataframe.shape[0])\n",
    "stationary_data = macedonia_dataframe[1:split]\n",
    "stationary_data_test = macedonia_dataframe[split:]\n",
    "del stationary_data['DAILY NEW CASES']\n",
    "del stationary_data_test['DAILY NEW CASES']"
   ]
  },
  {
   "cell_type": "code",
   "execution_count": 39,
   "metadata": {
    "pycharm": {
     "is_executing": true,
     "name": "#%%\n"
    }
   },
   "outputs": [
    {
     "name": "stdout",
     "output_type": "stream",
     "text": [
      "ADF Statistic: -6.005912\n",
      "p-value: 0.000000\n"
     ]
    }
   ],
   "source": [
    "check_stationary = adfuller(stationary_data.dropna())\n",
    "print('ADF Statistic: %f' % check_stationary[0])\n",
    "print('p-value: %f' % check_stationary[1])"
   ]
  },
  {
   "cell_type": "code",
   "execution_count": 40,
   "metadata": {
    "pycharm": {
     "is_executing": true,
     "name": "#%%\n"
    }
   },
   "outputs": [
    {
     "data": {
      "image/png": "[encoded data removed]",
      "text/plain": [
       "<Figure size 720x864 with 1 Axes>"
      ]
     },
     "metadata": {},
     "output_type": "display_data"
    },
    {
     "data": {
      "image/png": "[encoded data removed]",
      "text/plain": [
       "<Figure size 720x864 with 1 Axes>"
      ]
     },
     "metadata": {},
     "output_type": "display_data"
    }
   ],
   "source": [
    "plot_pacf(stationary_data['stationary']);\n",
    "plot_acf(stationary_data['stationary']);\n"
   ]
  },
  {
   "cell_type": "code",
   "execution_count": 41,
   "metadata": {
    "pycharm": {
     "is_executing": true,
     "name": "#%%\n"
    }
   },
   "outputs": [
    {
     "data": {
      "text/html": [
       "<div>\n",
       "<style scoped>\n",
       "    .dataframe tbody tr th:only-of-type {\n",
       "        vertical-align: middle;\n",
       "    }\n",
       "\n",
       "    .dataframe tbody tr th {\n",
       "        vertical-align: top;\n",
       "    }\n",
       "\n",
       "    .dataframe thead th {\n",
       "        text-align: right;\n",
       "    }\n",
       "</style>\n",
       "<table border=\"1\" class=\"dataframe\">\n",
       "  <thead>\n",
       "    <tr style=\"text-align: right;\">\n",
       "      <th></th>\n",
       "      <th>stationary</th>\n",
       "    </tr>\n",
       "    <tr>\n",
       "      <th>DATE</th>\n",
       "      <th></th>\n",
       "    </tr>\n",
       "  </thead>\n",
       "  <tbody>\n",
       "    <tr>\n",
       "      <th>2020-08-19</th>\n",
       "      <td>-24.0</td>\n",
       "    </tr>\n",
       "    <tr>\n",
       "      <th>2020-08-20</th>\n",
       "      <td>12.0</td>\n",
       "    </tr>\n",
       "    <tr>\n",
       "      <th>2020-08-21</th>\n",
       "      <td>-4.0</td>\n",
       "    </tr>\n",
       "    <tr>\n",
       "      <th>2020-08-22</th>\n",
       "      <td>36.0</td>\n",
       "    </tr>\n",
       "    <tr>\n",
       "      <th>2020-08-23</th>\n",
       "      <td>-13.0</td>\n",
       "    </tr>\n",
       "    <tr>\n",
       "      <th>2020-08-24</th>\n",
       "      <td>-59.0</td>\n",
       "    </tr>\n",
       "    <tr>\n",
       "      <th>2020-08-25</th>\n",
       "      <td>48.0</td>\n",
       "    </tr>\n",
       "    <tr>\n",
       "      <th>2020-08-26</th>\n",
       "      <td>-11.0</td>\n",
       "    </tr>\n",
       "    <tr>\n",
       "      <th>2020-08-27</th>\n",
       "      <td>-25.0</td>\n",
       "    </tr>\n",
       "    <tr>\n",
       "      <th>2020-08-28</th>\n",
       "      <td>69.0</td>\n",
       "    </tr>\n",
       "    <tr>\n",
       "      <th>2020-08-29</th>\n",
       "      <td>-29.0</td>\n",
       "    </tr>\n",
       "    <tr>\n",
       "      <th>2020-08-30</th>\n",
       "      <td>-93.0</td>\n",
       "    </tr>\n",
       "    <tr>\n",
       "      <th>2020-08-31</th>\n",
       "      <td>-26.0</td>\n",
       "    </tr>\n",
       "    <tr>\n",
       "      <th>2020-09-01</th>\n",
       "      <td>103.0</td>\n",
       "    </tr>\n",
       "    <tr>\n",
       "      <th>2020-09-02</th>\n",
       "      <td>31.0</td>\n",
       "    </tr>\n",
       "    <tr>\n",
       "      <th>2020-09-03</th>\n",
       "      <td>17.0</td>\n",
       "    </tr>\n",
       "    <tr>\n",
       "      <th>2020-09-04</th>\n",
       "      <td>-53.0</td>\n",
       "    </tr>\n",
       "    <tr>\n",
       "      <th>2020-09-05</th>\n",
       "      <td>18.0</td>\n",
       "    </tr>\n",
       "    <tr>\n",
       "      <th>2020-09-06</th>\n",
       "      <td>-35.0</td>\n",
       "    </tr>\n",
       "    <tr>\n",
       "      <th>2020-09-07</th>\n",
       "      <td>-55.0</td>\n",
       "    </tr>\n",
       "    <tr>\n",
       "      <th>2020-09-08</th>\n",
       "      <td>62.0</td>\n",
       "    </tr>\n",
       "    <tr>\n",
       "      <th>2020-09-09</th>\n",
       "      <td>-32.0</td>\n",
       "    </tr>\n",
       "    <tr>\n",
       "      <th>2020-09-10</th>\n",
       "      <td>54.0</td>\n",
       "    </tr>\n",
       "    <tr>\n",
       "      <th>2020-09-11</th>\n",
       "      <td>20.0</td>\n",
       "    </tr>\n",
       "    <tr>\n",
       "      <th>2020-09-12</th>\n",
       "      <td>-2.0</td>\n",
       "    </tr>\n",
       "    <tr>\n",
       "      <th>2020-09-13</th>\n",
       "      <td>-42.0</td>\n",
       "    </tr>\n",
       "    <tr>\n",
       "      <th>2020-09-14</th>\n",
       "      <td>-61.0</td>\n",
       "    </tr>\n",
       "    <tr>\n",
       "      <th>2020-09-15</th>\n",
       "      <td>62.0</td>\n",
       "    </tr>\n",
       "    <tr>\n",
       "      <th>2020-09-16</th>\n",
       "      <td>65.0</td>\n",
       "    </tr>\n",
       "    <tr>\n",
       "      <th>2020-09-17</th>\n",
       "      <td>23.0</td>\n",
       "    </tr>\n",
       "    <tr>\n",
       "      <th>2020-09-18</th>\n",
       "      <td>-43.0</td>\n",
       "    </tr>\n",
       "    <tr>\n",
       "      <th>2020-09-19</th>\n",
       "      <td>-3.0</td>\n",
       "    </tr>\n",
       "    <tr>\n",
       "      <th>2020-09-20</th>\n",
       "      <td>38.0</td>\n",
       "    </tr>\n",
       "    <tr>\n",
       "      <th>2020-09-21</th>\n",
       "      <td>-133.0</td>\n",
       "    </tr>\n",
       "    <tr>\n",
       "      <th>2020-09-22</th>\n",
       "      <td>42.0</td>\n",
       "    </tr>\n",
       "    <tr>\n",
       "      <th>2020-09-23</th>\n",
       "      <td>95.0</td>\n",
       "    </tr>\n",
       "    <tr>\n",
       "      <th>2020-09-24</th>\n",
       "      <td>-31.0</td>\n",
       "    </tr>\n",
       "    <tr>\n",
       "      <th>2020-09-25</th>\n",
       "      <td>-8.0</td>\n",
       "    </tr>\n",
       "    <tr>\n",
       "      <th>2020-09-26</th>\n",
       "      <td>-3.0</td>\n",
       "    </tr>\n",
       "    <tr>\n",
       "      <th>2020-09-27</th>\n",
       "      <td>6.0</td>\n",
       "    </tr>\n",
       "    <tr>\n",
       "      <th>2020-09-28</th>\n",
       "      <td>-101.0</td>\n",
       "    </tr>\n",
       "    <tr>\n",
       "      <th>2020-09-29</th>\n",
       "      <td>67.0</td>\n",
       "    </tr>\n",
       "    <tr>\n",
       "      <th>2020-09-30</th>\n",
       "      <td>79.0</td>\n",
       "    </tr>\n",
       "    <tr>\n",
       "      <th>2020-10-01</th>\n",
       "      <td>-30.0</td>\n",
       "    </tr>\n",
       "    <tr>\n",
       "      <th>2020-10-02</th>\n",
       "      <td>64.0</td>\n",
       "    </tr>\n",
       "    <tr>\n",
       "      <th>2020-10-03</th>\n",
       "      <td>14.0</td>\n",
       "    </tr>\n",
       "    <tr>\n",
       "      <th>2020-10-04</th>\n",
       "      <td>-51.0</td>\n",
       "    </tr>\n",
       "    <tr>\n",
       "      <th>2020-10-05</th>\n",
       "      <td>-105.0</td>\n",
       "    </tr>\n",
       "    <tr>\n",
       "      <th>2020-10-06</th>\n",
       "      <td>140.0</td>\n",
       "    </tr>\n",
       "    <tr>\n",
       "      <th>2020-10-07</th>\n",
       "      <td>94.0</td>\n",
       "    </tr>\n",
       "    <tr>\n",
       "      <th>2020-10-08</th>\n",
       "      <td>47.0</td>\n",
       "    </tr>\n",
       "    <tr>\n",
       "      <th>2020-10-09</th>\n",
       "      <td>22.0</td>\n",
       "    </tr>\n",
       "    <tr>\n",
       "      <th>2020-10-10</th>\n",
       "      <td>6.0</td>\n",
       "    </tr>\n",
       "  </tbody>\n",
       "</table>\n",
       "</div>"
      ],
      "text/plain": [
       "            stationary\n",
       "DATE                  \n",
       "2020-08-19       -24.0\n",
       "2020-08-20        12.0\n",
       "2020-08-21        -4.0\n",
       "2020-08-22        36.0\n",
       "2020-08-23       -13.0\n",
       "2020-08-24       -59.0\n",
       "2020-08-25        48.0\n",
       "2020-08-26       -11.0\n",
       "2020-08-27       -25.0\n",
       "2020-08-28        69.0\n",
       "2020-08-29       -29.0\n",
       "2020-08-30       -93.0\n",
       "2020-08-31       -26.0\n",
       "2020-09-01       103.0\n",
       "2020-09-02        31.0\n",
       "2020-09-03        17.0\n",
       "2020-09-04       -53.0\n",
       "2020-09-05        18.0\n",
       "2020-09-06       -35.0\n",
       "2020-09-07       -55.0\n",
       "2020-09-08        62.0\n",
       "2020-09-09       -32.0\n",
       "2020-09-10        54.0\n",
       "2020-09-11        20.0\n",
       "2020-09-12        -2.0\n",
       "2020-09-13       -42.0\n",
       "2020-09-14       -61.0\n",
       "2020-09-15        62.0\n",
       "2020-09-16        65.0\n",
       "2020-09-17        23.0\n",
       "2020-09-18       -43.0\n",
       "2020-09-19        -3.0\n",
       "2020-09-20        38.0\n",
       "2020-09-21      -133.0\n",
       "2020-09-22        42.0\n",
       "2020-09-23        95.0\n",
       "2020-09-24       -31.0\n",
       "2020-09-25        -8.0\n",
       "2020-09-26        -3.0\n",
       "2020-09-27         6.0\n",
       "2020-09-28      -101.0\n",
       "2020-09-29        67.0\n",
       "2020-09-30        79.0\n",
       "2020-10-01       -30.0\n",
       "2020-10-02        64.0\n",
       "2020-10-03        14.0\n",
       "2020-10-04       -51.0\n",
       "2020-10-05      -105.0\n",
       "2020-10-06       140.0\n",
       "2020-10-07        94.0\n",
       "2020-10-08        47.0\n",
       "2020-10-09        22.0\n",
       "2020-10-10         6.0"
      ]
     },
     "execution_count": 41,
     "metadata": {},
     "output_type": "execute_result"
    }
   ],
   "source": [
    "stationary_data_test.dropna()"
   ]
  },
  {
   "cell_type": "code",
   "execution_count": 42,
   "metadata": {
    "pycharm": {
     "is_executing": true,
     "name": "#%%\n"
    }
   },
   "outputs": [
    {
     "data": {
      "text/plain": [
       "DatetimeIndex(['2020-08-19', '2020-08-20', '2020-08-21', '2020-08-22',\n",
       "               '2020-08-23', '2020-08-24', '2020-08-25', '2020-08-26',\n",
       "               '2020-08-27', '2020-08-28', '2020-08-29', '2020-08-30',\n",
       "               '2020-08-31', '2020-09-01', '2020-09-02', '2020-09-03',\n",
       "               '2020-09-04', '2020-09-05', '2020-09-06', '2020-09-07',\n",
       "               '2020-09-08', '2020-09-09', '2020-09-10', '2020-09-11',\n",
       "               '2020-09-12', '2020-09-13', '2020-09-14', '2020-09-15',\n",
       "               '2020-09-16', '2020-09-17', '2020-09-18', '2020-09-19',\n",
       "               '2020-09-20', '2020-09-21', '2020-09-22', '2020-09-23',\n",
       "               '2020-09-24', '2020-09-25', '2020-09-26', '2020-09-27',\n",
       "               '2020-09-28', '2020-09-29', '2020-09-30', '2020-10-01',\n",
       "               '2020-10-02', '2020-10-03', '2020-10-04', '2020-10-05',\n",
       "               '2020-10-06', '2020-10-07', '2020-10-08', '2020-10-09',\n",
       "               '2020-10-10', '2020-10-11', '2020-10-12', '2020-10-13',\n",
       "               '2020-10-14', '2020-10-15', '2020-10-16', '2020-10-17',\n",
       "               '2020-10-18', '2020-10-19', '2020-10-20', '2020-10-21',\n",
       "               '2020-10-22', '2020-10-23', '2020-10-24', '2020-10-25',\n",
       "               '2020-10-26', '2020-10-27'],\n",
       "              dtype='datetime64[ns]', freq='D')"
      ]
     },
     "execution_count": 42,
     "metadata": {},
     "output_type": "execute_result"
    }
   ],
   "source": [
    "indices = pd.date_range(start='19/08/2020', periods=70)\n",
    "indices"
   ]
  },
  {
   "cell_type": "markdown",
   "metadata": {
    "pycharm": {
     "name": "#%% md\n"
    }
   },
   "source": [
    "**Check the best `p,q,d` values to train the model. The smaller the `AIC(Akaike information criterion)`, the better the fit.**"
   ]
  },
  {
   "cell_type": "code",
   "execution_count": null,
   "metadata": {
    "pycharm": {
     "is_executing": true,
     "name": "#%%\n"
    }
   },
   "outputs": [],
   "source": [
    "p=d=q=range(0,21)\n",
    "pqd = list(itertools.product(p,d,q))\n",
    "for param in pqd:\n",
    "    try:\n",
    "        m=ARIMA(stationary_data,order = param)\n",
    "        m_fit = m.fit()\n",
    "        print(param,m_fit.aic)\n",
    "    except:\n",
    "        continue"
   ]
  },
  {
   "cell_type": "markdown",
   "metadata": {
    "pycharm": {
     "name": "#%% md\n"
    }
   },
   "source": [
    "**Train the model. From the output of the previous cell we noticed that `(17,0,12)` was the best order.\n",
    "An alpha of `0.05` means that the `ARIMA model` will estimate the upper and lower values around the forecast where there is a only a `5%` chance that the real value will not be in that range.**"
   ]
  },
  {
   "cell_type": "code",
   "execution_count": 43,
   "metadata": {
    "pycharm": {
     "is_executing": true,
     "name": "#%%\n"
    }
   },
   "outputs": [],
   "source": [
    "from statsmodels.tsa.stattools import acf\n",
    "from statsmodels.tsa.arima_model import ARIMA\n",
    "model_arima = ARIMA(stationary_data.dropna(),order=(20,0,6))\n",
    "model_arima_fit = model_arima.fit()\n",
    "fitted = model_arima.fit(disp=-1)  \n",
    "# Forecast\n",
    "fc, se, conf = fitted.forecast(70, alpha=0.05)  # 95% conf\n",
    "\n",
    "stationary_data_test\n",
    "\n",
    "# Make as pandas series\n",
    "fc_series = pd.Series(fc, index=indices)\n",
    "lower_series = pd.Series(conf[:, 0], index=indices)\n",
    "upper_series = pd.Series(conf[:, 1], index=indices)\n",
    "\n"
   ]
  },
  {
   "cell_type": "markdown",
   "metadata": {
    "pycharm": {
     "name": "#%% md\n"
    }
   },
   "source": [
    "**Visualize the result of the forecast. Data visualization gives us a clear idea of what the information means by giving it visual context through maps or graphs. This makes the data more natural for the human mind to comprehend and therefore makes it easier to identify trends, patterns, and outliers within large data sets.**"
   ]
  },
  {
   "cell_type": "code",
   "execution_count": 50,
   "metadata": {
    "pycharm": {
     "is_executing": true,
     "name": "#%%\n"
    }
   },
   "outputs": [
    {
     "data": {
      "image/png": "[encoded data removed]",
      "text/plain": [
       "<Figure size 1200x500 with 1 Axes>"
      ]
     },
     "metadata": {
      "needs_background": "light"
     },
     "output_type": "display_data"
    }
   ],
   "source": [
    "# Plot\n",
    "plt.figure(figsize=(12,5), dpi=100)\n",
    "\n",
    "plt.plot(stationary_data, label='training')\n",
    "plt.plot(stationary_data_test, label='validation')\n",
    "plt.plot(fc_series, label='forecast')\n",
    "plt.fill_between(lower_series.index, lower_series, upper_series, \n",
    "                 color='k', alpha=.15)\n",
    "plt.title('Forecast vs Actuals')\n",
    "plt.legend(loc='upper left', fontsize=8)\n",
    "plt.show()"
   ]
  },
  {
   "cell_type": "code",
   "execution_count": 132,
   "metadata": {
    "pycharm": {
     "is_executing": true,
     "name": "#%%\n"
    }
   },
   "outputs": [
    {
     "data": {
      "text/plain": [
       "-8.953064357608255"
      ]
     },
     "execution_count": 132,
     "metadata": {},
     "output_type": "execute_result"
    }
   ],
   "source": [
    "r2_score(fc_series, stationary_data_test)\n"
   ]
  },
  {
   "cell_type": "markdown",
   "metadata": {
    "pycharm": {
     "is_executing": true
    }
   },
   "source": [
    "## XGBoost (eXtreme Gradient Boost)"
   ]
  },
  {
   "cell_type": "markdown",
   "metadata": {},
   "source": [
    "Import packages and libraries"
   ]
  },
  {
   "cell_type": "code",
   "execution_count": 15,
   "metadata": {
    "pycharm": {
     "is_executing": true
    }
   },
   "outputs": [],
   "source": [
    "import numpy as np # linear algebra\n",
    "import pandas as pd # data processing, CSV file I/O (e.g. pd.read_csv)\n",
    "import seaborn as sns\n",
    "import matplotlib.pyplot as plt\n",
    "import xgboost as xgb\n",
    "from xgboost import plot_importance, plot_tree\n",
    "from sklearn.metrics import mean_squared_error, mean_absolute_error\n",
    "plt.style.use('fivethirtyeight')"
   ]
  },
  {
   "cell_type": "markdown",
   "metadata": {},
   "source": [
    "**Read the data and then split into train and test set.**"
   ]
  },
  {
   "cell_type": "code",
   "execution_count": null,
   "metadata": {
    "pycharm": {
     "is_executing": true
    }
   },
   "outputs": [],
   "source": [
    "nmk_df = df[['DATE','DAILY NEW CASES']]\n",
    "nmk_df['DATE']=pd.to_datetime(nmk_df['DATE'])\n",
    "nmk_df.set_index('DATE', inplace=True)"
   ]
  },
  {
   "cell_type": "code",
   "execution_count": 43,
   "metadata": {
    "pycharm": {
     "is_executing": true
    }
   },
   "outputs": [],
   "source": [
    "nmk_train, nmk_test, divisor = train_test_split(nmk_df, 80)"
   ]
  },
  {
   "cell_type": "code",
   "execution_count": 44,
   "metadata": {
    "pycharm": {
     "is_executing": true
    }
   },
   "outputs": [
    {
     "data": {
      "image/png": "[encoded data removed]",
      "text/plain": [
       "<Figure size 1080x360 with 1 Axes>"
      ]
     },
     "metadata": {},
     "output_type": "display_data"
    }
   ],
   "source": [
    "_ = nmk_test \\\n",
    "    .rename(columns={'DAILY NEW CASES': 'TEST SET'}) \\\n",
    "    .join(nmk_train.rename(columns={'DAILY NEW CASES': 'TRAINING SET'}), how='outer') \\\n",
    "    .plot(figsize=(15,5), title='Covid-19 tracking in North Macedonia', style='.')"
   ]
  },
  {
   "cell_type": "markdown",
   "metadata": {},
   "source": [
    "**Create Time Series Features**"
   ]
  },
  {
   "cell_type": "code",
   "execution_count": 45,
   "metadata": {
    "pycharm": {
     "is_executing": true
    }
   },
   "outputs": [],
   "source": [
    "def create_new_features(df, label=None):\n",
    "    \"\"\"\n",
    "    Creates time series features from datetime index\n",
    "    \"\"\"\n",
    "    df['date'] = df.index\n",
    "    df['dayofweek'] = df['date'].dt.dayofweek\n",
    "    df['month'] = df['date'].dt.month\n",
    "    df['year'] = df['date'].dt.year\n",
    "    df['dayofyear'] = df['date'].dt.dayofyear\n",
    "    df['dayofmonth'] = df['date'].dt.day\n",
    "    df['weekofyear'] = df['date'].dt.weekofyear\n",
    "    \n",
    "    X = df[['dayofweek','month','year',\n",
    "           'dayofyear','dayofmonth','weekofyear']]\n",
    "    if label:\n",
    "        y = df[label]\n",
    "        return X, y\n",
    "    return X"
   ]
  },
  {
   "cell_type": "code",
   "execution_count": 46,
   "metadata": {
    "pycharm": {
     "is_executing": true
    }
   },
   "outputs": [],
   "source": [
    "X_train, y_train = create_new_features(nmk_train, label='DAILY NEW CASES')\n",
    "X_test, y_test = create_new_features(nmk_test, label='DAILY NEW CASES')"
   ]
  },
  {
   "cell_type": "code",
   "execution_count": 47,
   "metadata": {
    "pycharm": {
     "is_executing": true
    }
   },
   "outputs": [
    {
     "name": "stdout",
     "output_type": "stream",
     "text": [
      "[11:56:51] WARNING: src/objective/regression_obj.cu:152: reg:linear is now deprecated in favor of reg:squarederror.\n"
     ]
    },
    {
     "data": {
      "text/plain": [
       "XGBRegressor(n_estimators=1000)"
      ]
     },
     "execution_count": 47,
     "metadata": {},
     "output_type": "execute_result"
    }
   ],
   "source": [
    "reg = xgb.XGBRegressor(n_estimators=1000)\n",
    "reg.fit(X_train, y_train,\n",
    "        eval_set=[(X_train, y_train), (X_test, y_test)],\n",
    "        early_stopping_rounds=50,\n",
    "       verbose=False) # Change verbose to True if you want to see it train"
   ]
  },
  {
   "cell_type": "code",
   "execution_count": 48,
   "metadata": {
    "pycharm": {
     "is_executing": true
    }
   },
   "outputs": [
    {
     "data": {
      "image/png": "[encoded data removed]",
      "text/plain": [
       "<Figure size 720x864 with 1 Axes>"
      ]
     },
     "metadata": {},
     "output_type": "display_data"
    }
   ],
   "source": [
    "_ = plot_importance(reg, height=0.9)"
   ]
  },
  {
   "cell_type": "code",
   "execution_count": 49,
   "metadata": {
    "pycharm": {
     "is_executing": true
    }
   },
   "outputs": [
    {
     "data": {
      "image/png": "[encoded data removed]",
      "text/plain": [
       "<Figure size 1080x360 with 1 Axes>"
      ]
     },
     "metadata": {},
     "output_type": "display_data"
    }
   ],
   "source": [
    "nmk_test['Prediction'] = reg.predict(X_test)\n",
    "nmk_all = pd.concat([nmk_test, nmk_train], sort=False)\n",
    "_ = nmk_all[['DAILY NEW CASES','Prediction']].plot(figsize=(15, 5))"
   ]
  },
  {
   "cell_type": "code",
   "execution_count": 50,
   "metadata": {
    "pycharm": {
     "is_executing": true
    }
   },
   "outputs": [
    {
     "data": {
      "image/png": "[encoded data removed]",
      "text/plain": [
       "<Figure size 1080x360 with 1 Axes>"
      ]
     },
     "metadata": {},
     "output_type": "display_data"
    }
   ],
   "source": [
    "f, ax = plt.subplots(1)\n",
    "f.set_figheight(5)\n",
    "f.set_figwidth(15)\n",
    "_ = nmk_all[['Prediction','DAILY NEW CASES']].plot(ax=ax,\n",
    "                                              style=['-','.'])\n",
    "ax.set_xbound(lower='08-25-2020', upper='09-10-2020')\n",
    "ax.set_ylim(0, 400)\n",
    "plot = plt.suptitle('August-September 2020 Forecast vs Actuals')"
   ]
  },
  {
   "cell_type": "code",
   "execution_count": 51,
   "metadata": {
    "pycharm": {
     "is_executing": true
    }
   },
   "outputs": [],
   "source": [
    "def mean_absolute_percentage_error(y_true, y_pred): \n",
    "    \"\"\"Calculates MAPE given y_true and y_pred\"\"\"\n",
    "    y_true, y_pred = np.array(y_true), np.array(y_pred)\n",
    "    return np.mean(np.abs((y_true - y_pred) / y_true)) * 100"
   ]
  },
  {
   "cell_type": "code",
   "execution_count": 52,
   "metadata": {
    "pycharm": {
     "is_executing": true
    }
   },
   "outputs": [
    {
     "data": {
      "text/plain": [
       "56.42893596870502"
      ]
     },
     "execution_count": 52,
     "metadata": {},
     "output_type": "execute_result"
    }
   ],
   "source": [
    "mean_absolute_percentage_error(y_true=nmk_test['DAILY NEW CASES'],\n",
    "                   y_pred=nmk_test['Prediction'])"
   ]
  },
  {
   "cell_type": "code",
   "execution_count": 53,
   "metadata": {
    "pycharm": {
     "is_executing": true
    }
   },
   "outputs": [],
   "source": [
    "nmk_test['error'] = nmk_test['DAILY NEW CASES'] - nmk_test['Prediction']\n",
    "nmk_test['abs_error'] = nmk_test['error'].apply(np.abs)\n",
    "error_by_day = nmk_test.groupby(['year','month','dayofmonth']) \\\n",
    "    .mean()[['DAILY NEW CASES','Prediction','error','abs_error']]"
   ]
  },
  {
   "cell_type": "code",
   "execution_count": 54,
   "metadata": {
    "pycharm": {
     "is_executing": true
    }
   },
   "outputs": [
    {
     "data": {
      "text/html": [
       "<div>\n",
       "<style scoped>\n",
       "    .dataframe tbody tr th:only-of-type {\n",
       "        vertical-align: middle;\n",
       "    }\n",
       "\n",
       "    .dataframe tbody tr th {\n",
       "        vertical-align: top;\n",
       "    }\n",
       "\n",
       "    .dataframe thead th {\n",
       "        text-align: right;\n",
       "    }\n",
       "</style>\n",
       "<table border=\"1\" class=\"dataframe\">\n",
       "  <thead>\n",
       "    <tr style=\"text-align: right;\">\n",
       "      <th></th>\n",
       "      <th></th>\n",
       "      <th></th>\n",
       "      <th>DAILY NEW CASES</th>\n",
       "      <th>Prediction</th>\n",
       "      <th>error</th>\n",
       "      <th>abs_error</th>\n",
       "    </tr>\n",
       "    <tr>\n",
       "      <th>year</th>\n",
       "      <th>month</th>\n",
       "      <th>dayofmonth</th>\n",
       "      <th></th>\n",
       "      <th></th>\n",
       "      <th></th>\n",
       "      <th></th>\n",
       "    </tr>\n",
       "  </thead>\n",
       "  <tbody>\n",
       "    <tr>\n",
       "      <th rowspan=\"10\" valign=\"top\">2020</th>\n",
       "      <th>8</th>\n",
       "      <th>31</th>\n",
       "      <td>11.0</td>\n",
       "      <td>107.584839</td>\n",
       "      <td>-96.584839</td>\n",
       "      <td>96.584839</td>\n",
       "    </tr>\n",
       "    <tr>\n",
       "      <th>9</th>\n",
       "      <th>14</th>\n",
       "      <td>36.0</td>\n",
       "      <td>107.658577</td>\n",
       "      <td>-71.658577</td>\n",
       "      <td>71.658577</td>\n",
       "    </tr>\n",
       "    <tr>\n",
       "      <th>8</th>\n",
       "      <th>30</th>\n",
       "      <td>37.0</td>\n",
       "      <td>107.662125</td>\n",
       "      <td>-70.662125</td>\n",
       "      <td>70.662125</td>\n",
       "    </tr>\n",
       "    <tr>\n",
       "      <th rowspan=\"5\" valign=\"top\">9</th>\n",
       "      <th>7</th>\n",
       "      <td>37.0</td>\n",
       "      <td>104.879425</td>\n",
       "      <td>-67.879425</td>\n",
       "      <td>67.879425</td>\n",
       "    </tr>\n",
       "    <tr>\n",
       "      <th>28</th>\n",
       "      <td>45.0</td>\n",
       "      <td>107.584839</td>\n",
       "      <td>-62.584839</td>\n",
       "      <td>62.584839</td>\n",
       "    </tr>\n",
       "    <tr>\n",
       "      <th>21</th>\n",
       "      <td>45.0</td>\n",
       "      <td>105.645432</td>\n",
       "      <td>-60.645432</td>\n",
       "      <td>60.645432</td>\n",
       "    </tr>\n",
       "    <tr>\n",
       "      <th>9</th>\n",
       "      <td>67.0</td>\n",
       "      <td>113.484329</td>\n",
       "      <td>-46.484329</td>\n",
       "      <td>46.484329</td>\n",
       "    </tr>\n",
       "    <tr>\n",
       "      <th>22</th>\n",
       "      <td>87.0</td>\n",
       "      <td>118.101631</td>\n",
       "      <td>-31.101631</td>\n",
       "      <td>31.101631</td>\n",
       "    </tr>\n",
       "    <tr>\n",
       "      <th>8</th>\n",
       "      <th>24</th>\n",
       "      <td>78.0</td>\n",
       "      <td>105.645432</td>\n",
       "      <td>-27.645432</td>\n",
       "      <td>27.645432</td>\n",
       "    </tr>\n",
       "    <tr>\n",
       "      <th>9</th>\n",
       "      <th>8</th>\n",
       "      <td>99.0</td>\n",
       "      <td>121.164772</td>\n",
       "      <td>-22.164772</td>\n",
       "      <td>22.164772</td>\n",
       "    </tr>\n",
       "  </tbody>\n",
       "</table>\n",
       "</div>"
      ],
      "text/plain": [
       "                       DAILY NEW CASES  Prediction      error  abs_error\n",
       "year month dayofmonth                                                   \n",
       "2020 8     31                     11.0  107.584839 -96.584839  96.584839\n",
       "     9     14                     36.0  107.658577 -71.658577  71.658577\n",
       "     8     30                     37.0  107.662125 -70.662125  70.662125\n",
       "     9     7                      37.0  104.879425 -67.879425  67.879425\n",
       "           28                     45.0  107.584839 -62.584839  62.584839\n",
       "           21                     45.0  105.645432 -60.645432  60.645432\n",
       "           9                      67.0  113.484329 -46.484329  46.484329\n",
       "           22                     87.0  118.101631 -31.101631  31.101631\n",
       "     8     24                     78.0  105.645432 -27.645432  27.645432\n",
       "     9     8                      99.0  121.164772 -22.164772  22.164772"
      ]
     },
     "execution_count": 54,
     "metadata": {},
     "output_type": "execute_result"
    }
   ],
   "source": [
    "error_by_day.sort_values('error', ascending=True).head(10)"
   ]
  },
  {
   "cell_type": "code",
   "execution_count": 55,
   "metadata": {
    "pycharm": {
     "is_executing": true
    }
   },
   "outputs": [
    {
     "data": {
      "text/html": [
       "<div>\n",
       "<style scoped>\n",
       "    .dataframe tbody tr th:only-of-type {\n",
       "        vertical-align: middle;\n",
       "    }\n",
       "\n",
       "    .dataframe tbody tr th {\n",
       "        vertical-align: top;\n",
       "    }\n",
       "\n",
       "    .dataframe thead th {\n",
       "        text-align: right;\n",
       "    }\n",
       "</style>\n",
       "<table border=\"1\" class=\"dataframe\">\n",
       "  <thead>\n",
       "    <tr style=\"text-align: right;\">\n",
       "      <th></th>\n",
       "      <th></th>\n",
       "      <th></th>\n",
       "      <th>DAILY NEW CASES</th>\n",
       "      <th>Prediction</th>\n",
       "      <th>error</th>\n",
       "      <th>abs_error</th>\n",
       "    </tr>\n",
       "    <tr>\n",
       "      <th>year</th>\n",
       "      <th>month</th>\n",
       "      <th>dayofmonth</th>\n",
       "      <th></th>\n",
       "      <th></th>\n",
       "      <th></th>\n",
       "      <th></th>\n",
       "    </tr>\n",
       "  </thead>\n",
       "  <tbody>\n",
       "    <tr>\n",
       "      <th rowspan=\"10\" valign=\"top\">2020</th>\n",
       "      <th rowspan=\"7\" valign=\"top\">10</th>\n",
       "      <th>10</th>\n",
       "      <td>392.0</td>\n",
       "      <td>126.091484</td>\n",
       "      <td>265.908516</td>\n",
       "      <td>265.908516</td>\n",
       "    </tr>\n",
       "    <tr>\n",
       "      <th>9</th>\n",
       "      <td>386.0</td>\n",
       "      <td>125.113724</td>\n",
       "      <td>260.886276</td>\n",
       "      <td>260.886276</td>\n",
       "    </tr>\n",
       "    <tr>\n",
       "      <th>8</th>\n",
       "      <td>364.0</td>\n",
       "      <td>113.484329</td>\n",
       "      <td>250.515671</td>\n",
       "      <td>250.515671</td>\n",
       "    </tr>\n",
       "    <tr>\n",
       "      <th>7</th>\n",
       "      <td>317.0</td>\n",
       "      <td>107.763680</td>\n",
       "      <td>209.236320</td>\n",
       "      <td>209.236320</td>\n",
       "    </tr>\n",
       "    <tr>\n",
       "      <th>6</th>\n",
       "      <td>223.0</td>\n",
       "      <td>85.494637</td>\n",
       "      <td>137.505363</td>\n",
       "      <td>137.505363</td>\n",
       "    </tr>\n",
       "    <tr>\n",
       "      <th>3</th>\n",
       "      <td>239.0</td>\n",
       "      <td>121.964317</td>\n",
       "      <td>117.035683</td>\n",
       "      <td>117.035683</td>\n",
       "    </tr>\n",
       "    <tr>\n",
       "      <th>2</th>\n",
       "      <td>225.0</td>\n",
       "      <td>124.984764</td>\n",
       "      <td>100.015236</td>\n",
       "      <td>100.015236</td>\n",
       "    </tr>\n",
       "    <tr>\n",
       "      <th>8</th>\n",
       "      <th>31</th>\n",
       "      <td>11.0</td>\n",
       "      <td>107.584839</td>\n",
       "      <td>-96.584839</td>\n",
       "      <td>96.584839</td>\n",
       "    </tr>\n",
       "    <tr>\n",
       "      <th>10</th>\n",
       "      <th>4</th>\n",
       "      <td>188.0</td>\n",
       "      <td>93.271156</td>\n",
       "      <td>94.728844</td>\n",
       "      <td>94.728844</td>\n",
       "    </tr>\n",
       "    <tr>\n",
       "      <th>9</th>\n",
       "      <th>30</th>\n",
       "      <td>191.0</td>\n",
       "      <td>110.421188</td>\n",
       "      <td>80.578812</td>\n",
       "      <td>80.578812</td>\n",
       "    </tr>\n",
       "  </tbody>\n",
       "</table>\n",
       "</div>"
      ],
      "text/plain": [
       "                       DAILY NEW CASES  Prediction       error   abs_error\n",
       "year month dayofmonth                                                     \n",
       "2020 10    10                    392.0  126.091484  265.908516  265.908516\n",
       "           9                     386.0  125.113724  260.886276  260.886276\n",
       "           8                     364.0  113.484329  250.515671  250.515671\n",
       "           7                     317.0  107.763680  209.236320  209.236320\n",
       "           6                     223.0   85.494637  137.505363  137.505363\n",
       "           3                     239.0  121.964317  117.035683  117.035683\n",
       "           2                     225.0  124.984764  100.015236  100.015236\n",
       "     8     31                     11.0  107.584839  -96.584839   96.584839\n",
       "     10    4                     188.0   93.271156   94.728844   94.728844\n",
       "     9     30                    191.0  110.421188   80.578812   80.578812"
      ]
     },
     "execution_count": 55,
     "metadata": {},
     "output_type": "execute_result"
    }
   ],
   "source": [
    "# Worst absolute predicted days\n",
    "error_by_day.sort_values('abs_error', ascending=False).head(10)"
   ]
  },
  {
   "cell_type": "code",
   "execution_count": 56,
   "metadata": {
    "pycharm": {
     "is_executing": true
    }
   },
   "outputs": [
    {
     "data": {
      "text/html": [
       "<div>\n",
       "<style scoped>\n",
       "    .dataframe tbody tr th:only-of-type {\n",
       "        vertical-align: middle;\n",
       "    }\n",
       "\n",
       "    .dataframe tbody tr th {\n",
       "        vertical-align: top;\n",
       "    }\n",
       "\n",
       "    .dataframe thead th {\n",
       "        text-align: right;\n",
       "    }\n",
       "</style>\n",
       "<table border=\"1\" class=\"dataframe\">\n",
       "  <thead>\n",
       "    <tr style=\"text-align: right;\">\n",
       "      <th></th>\n",
       "      <th></th>\n",
       "      <th></th>\n",
       "      <th>DAILY NEW CASES</th>\n",
       "      <th>Prediction</th>\n",
       "      <th>error</th>\n",
       "      <th>abs_error</th>\n",
       "    </tr>\n",
       "    <tr>\n",
       "      <th>year</th>\n",
       "      <th>month</th>\n",
       "      <th>dayofmonth</th>\n",
       "      <th></th>\n",
       "      <th></th>\n",
       "      <th></th>\n",
       "      <th></th>\n",
       "    </tr>\n",
       "  </thead>\n",
       "  <tbody>\n",
       "    <tr>\n",
       "      <th rowspan=\"10\" valign=\"top\">2020</th>\n",
       "      <th rowspan=\"2\" valign=\"top\">9</th>\n",
       "      <th>6</th>\n",
       "      <td>92.0</td>\n",
       "      <td>93.271156</td>\n",
       "      <td>-1.271156</td>\n",
       "      <td>1.271156</td>\n",
       "    </tr>\n",
       "    <tr>\n",
       "      <th>13</th>\n",
       "      <td>97.0</td>\n",
       "      <td>100.259460</td>\n",
       "      <td>-3.259460</td>\n",
       "      <td>3.259460</td>\n",
       "    </tr>\n",
       "    <tr>\n",
       "      <th rowspan=\"2\" valign=\"top\">8</th>\n",
       "      <th>19</th>\n",
       "      <td>106.0</td>\n",
       "      <td>110.421188</td>\n",
       "      <td>-4.421188</td>\n",
       "      <td>4.421188</td>\n",
       "    </tr>\n",
       "    <tr>\n",
       "      <th>26</th>\n",
       "      <td>115.0</td>\n",
       "      <td>110.421188</td>\n",
       "      <td>4.578812</td>\n",
       "      <td>4.578812</td>\n",
       "    </tr>\n",
       "    <tr>\n",
       "      <th>9</th>\n",
       "      <th>29</th>\n",
       "      <td>112.0</td>\n",
       "      <td>118.101631</td>\n",
       "      <td>-6.101631</td>\n",
       "      <td>6.101631</td>\n",
       "    </tr>\n",
       "    <tr>\n",
       "      <th>8</th>\n",
       "      <th>29</th>\n",
       "      <td>130.0</td>\n",
       "      <td>123.028343</td>\n",
       "      <td>6.971657</td>\n",
       "      <td>6.971657</td>\n",
       "    </tr>\n",
       "    <tr>\n",
       "      <th>9</th>\n",
       "      <th>10</th>\n",
       "      <td>121.0</td>\n",
       "      <td>113.484329</td>\n",
       "      <td>7.515671</td>\n",
       "      <td>7.515671</td>\n",
       "    </tr>\n",
       "    <tr>\n",
       "      <th rowspan=\"3\" valign=\"top\">8</th>\n",
       "      <th>20</th>\n",
       "      <td>118.0</td>\n",
       "      <td>110.421188</td>\n",
       "      <td>7.578812</td>\n",
       "      <td>7.578812</td>\n",
       "    </tr>\n",
       "    <tr>\n",
       "      <th>25</th>\n",
       "      <td>126.0</td>\n",
       "      <td>118.101631</td>\n",
       "      <td>7.898369</td>\n",
       "      <td>7.898369</td>\n",
       "    </tr>\n",
       "    <tr>\n",
       "      <th>21</th>\n",
       "      <td>114.0</td>\n",
       "      <td>122.050583</td>\n",
       "      <td>-8.050583</td>\n",
       "      <td>8.050583</td>\n",
       "    </tr>\n",
       "  </tbody>\n",
       "</table>\n",
       "</div>"
      ],
      "text/plain": [
       "                       DAILY NEW CASES  Prediction     error  abs_error\n",
       "year month dayofmonth                                                  \n",
       "2020 9     6                      92.0   93.271156 -1.271156   1.271156\n",
       "           13                     97.0  100.259460 -3.259460   3.259460\n",
       "     8     19                    106.0  110.421188 -4.421188   4.421188\n",
       "           26                    115.0  110.421188  4.578812   4.578812\n",
       "     9     29                    112.0  118.101631 -6.101631   6.101631\n",
       "     8     29                    130.0  123.028343  6.971657   6.971657\n",
       "     9     10                    121.0  113.484329  7.515671   7.515671\n",
       "     8     20                    118.0  110.421188  7.578812   7.578812\n",
       "           25                    126.0  118.101631  7.898369   7.898369\n",
       "           21                    114.0  122.050583 -8.050583   8.050583"
      ]
     },
     "execution_count": 56,
     "metadata": {},
     "output_type": "execute_result"
    }
   ],
   "source": [
    "# Best absolute predicted days\n",
    "error_by_day.sort_values('abs_error', ascending=True).head(10)"
   ]
  },
  {
   "cell_type": "markdown",
   "metadata": {},
   "source": [
    "## Linear Regression"
   ]
  },
  {
   "cell_type": "code",
   "execution_count": 198,
   "metadata": {},
   "outputs": [],
   "source": [
    "from sklearn import linear_model\n",
    "from sklearn.metrics import mean_squared_error, r2_score\n",
    "from sklearn.model_selection import train_test_split"
   ]
  },
  {
   "cell_type": "code",
   "execution_count": 199,
   "metadata": {
    "pycharm": {
     "is_executing": true
    }
   },
   "outputs": [],
   "source": [
    "nmk_df = df[['DATE','DAILY NEW CASES']]\n",
    "nmk_df['DATE']=pd.to_datetime(nmk_df['DATE'])"
   ]
  },
  {
   "cell_type": "code",
   "execution_count": 200,
   "metadata": {
    "pycharm": {
     "is_executing": true
    }
   },
   "outputs": [],
   "source": [
    "nmk_df['DATE'] = nmk_df['DATE'].apply(lambda x: x.toordinal())"
   ]
  },
  {
   "cell_type": "code",
   "execution_count": 202,
   "metadata": {},
   "outputs": [
    {
     "data": {
      "image/png": "[encoded data removed]",
      "text/plain": [
       "<Figure size 720x864 with 1 Axes>"
      ]
     },
     "metadata": {},
     "output_type": "display_data"
    }
   ],
   "source": [
    "features_to_use = ['DATE']\n",
    "x = np.array(nmk_df[features_to_use])\n",
    "y = np.array(nmk_df['DAILY NEW CASES'])\n",
    "X_train, X_test, y_train, y_test = train_test_split(x, y, train_size =0.8)"
   ]
  },
  {
   "cell_type": "code",
   "execution_count": 203,
   "metadata": {},
   "outputs": [
    {
     "data": {
      "text/plain": [
       "0.7778737020271301"
      ]
     },
     "execution_count": 203,
     "metadata": {},
     "output_type": "execute_result"
    }
   ],
   "source": [
    "r"
   ]
  },
  {
   "cell_type": "code",
   "execution_count": 204,
   "metadata": {
    "pycharm": {
     "is_executing": true
    }
   },
   "outputs": [
    {
     "data": {
      "text/plain": [
       "LinearRegression()"
      ]
     },
     "execution_count": 204,
     "metadata": {},
     "output_type": "execute_result"
    }
   ],
   "source": [
    "model = linear_model.LinearRegression()\n",
    "model.fit(X_train, y_train)"
   ]
  },
  {
   "cell_type": "code",
   "execution_count": 205,
   "metadata": {
    "pycharm": {
     "is_executing": true,
     "name": "#%%\n"
    }
   },
   "outputs": [],
   "source": [
    "y_pred = model.predict(X_test)"
   ]
  },
  {
   "cell_type": "code",
   "execution_count": 206,
   "metadata": {},
   "outputs": [],
   "source": [
    "nmk_all = pd.DataFrame({'Actual': y_test, 'Predicted': y_pred})"
   ]
  },
  {
   "cell_type": "code",
   "execution_count": 207,
   "metadata": {},
   "outputs": [
    {
     "data": {
      "image/png": "[encoded data removed]",
      "text/plain": [
       "<Figure size 1080x360 with 1 Axes>"
      ]
     },
     "metadata": {},
     "output_type": "display_data"
    }
   ],
   "source": [
    "\n",
    "_ = nmk_all[['Actual','Predicted']].plot(figsize=(15, 5))"
   ]
  },
  {
   "cell_type": "code",
   "execution_count": 208,
   "metadata": {},
   "outputs": [
    {
     "name": "stdout",
     "output_type": "stream",
     "text": [
      "   Actual   Predicted\n",
      "0   135.0  114.257640\n",
      "1     0.0   10.137111\n",
      "2    30.0   64.819115\n",
      "3   162.0  146.467587\n",
      "4   155.0  126.242736\n",
      "5   163.0  113.508571\n",
      "6   239.0  168.939644\n",
      "7   102.0  118.752051\n",
      "8    22.0   50.586813\n",
      "9    21.0   51.335881\n"
     ]
    }
   ],
   "source": [
    "comp_df = pd.DataFrame({'Actual': y_test, 'Predicted': y_pred})\n",
    "print(comp_df.head(10))"
   ]
  },
  {
   "cell_type": "code",
   "execution_count": 209,
   "metadata": {},
   "outputs": [
    {
     "name": "stdout",
     "output_type": "stream",
     "text": [
      "R^2 Value: \n",
      " 0.6785051539085056\n"
     ]
    }
   ],
   "source": [
    "r2_value = r2_score(y_test, y_pred) \n",
    "print(\"R^2 Value: \\n\", r2_value)"
   ]
  },
  {
   "cell_type": "code",
   "execution_count": 210,
   "metadata": {},
   "outputs": [],
   "source": [
    "future_dates_indices = pd.date_range(start='10/11/2020', periods=20)"
   ]
  },
  {
   "cell_type": "code",
   "execution_count": 211,
   "metadata": {},
   "outputs": [],
   "source": [
    "future_dates_indices = future_dates_indices.strftime('%Y-%m-%d')"
   ]
  },
  {
   "cell_type": "code",
   "execution_count": 212,
   "metadata": {},
   "outputs": [],
   "source": [
    "tmp=[]\n",
    "for date in future_dates_indices:\n",
    "    entry = [pd.Timestamp(date).toordinal()]\n",
    "    tmp.append(entry)\n",
    "future_dates = np.array(tmp)"
   ]
  },
  {
   "cell_type": "code",
   "execution_count": 213,
   "metadata": {},
   "outputs": [],
   "source": [
    "future_cases = model.predict(future_dates)"
   ]
  },
  {
   "cell_type": "code",
   "execution_count": 214,
   "metadata": {},
   "outputs": [
    {
     "data": {
      "text/plain": [
       "array([174.93219228, 175.68126083, 176.43032939, 177.17939794,\n",
       "       177.92846649, 178.67753504, 179.4266036 , 180.17567215,\n",
       "       180.9247407 , 181.67380925, 182.42287781, 183.17194636,\n",
       "       183.92101491, 184.67008346, 185.41915202, 186.16822057,\n",
       "       186.91728912, 187.66635767, 188.41542623, 189.16449478])"
      ]
     },
     "execution_count": 214,
     "metadata": {},
     "output_type": "execute_result"
    }
   ],
   "source": [
    "future_cases"
   ]
  },
  {
   "cell_type": "code",
   "execution_count": 215,
   "metadata": {},
   "outputs": [],
   "source": [
    "data=[]\n",
    "for i in range(0, future_dates_indices.size):\n",
    "    data.append([future_dates_indices[i], future_cases[i]])"
   ]
  },
  {
   "cell_type": "code",
   "execution_count": 216,
   "metadata": {},
   "outputs": [],
   "source": [
    "future_df = pd.DataFrame(data, columns = ['Date', 'Number of cases']) "
   ]
  },
  {
   "cell_type": "code",
   "execution_count": 217,
   "metadata": {},
   "outputs": [
    {
     "data": {
      "text/html": [
       "<div>\n",
       "<style scoped>\n",
       "    .dataframe tbody tr th:only-of-type {\n",
       "        vertical-align: middle;\n",
       "    }\n",
       "\n",
       "    .dataframe tbody tr th {\n",
       "        vertical-align: top;\n",
       "    }\n",
       "\n",
       "    .dataframe thead th {\n",
       "        text-align: right;\n",
       "    }\n",
       "</style>\n",
       "<table border=\"1\" class=\"dataframe\">\n",
       "  <thead>\n",
       "    <tr style=\"text-align: right;\">\n",
       "      <th></th>\n",
       "      <th>Date</th>\n",
       "      <th>Number of cases</th>\n",
       "    </tr>\n",
       "  </thead>\n",
       "  <tbody>\n",
       "    <tr>\n",
       "      <th>0</th>\n",
       "      <td>2020-10-11</td>\n",
       "      <td>174.932192</td>\n",
       "    </tr>\n",
       "    <tr>\n",
       "      <th>1</th>\n",
       "      <td>2020-10-12</td>\n",
       "      <td>175.681261</td>\n",
       "    </tr>\n",
       "    <tr>\n",
       "      <th>2</th>\n",
       "      <td>2020-10-13</td>\n",
       "      <td>176.430329</td>\n",
       "    </tr>\n",
       "    <tr>\n",
       "      <th>3</th>\n",
       "      <td>2020-10-14</td>\n",
       "      <td>177.179398</td>\n",
       "    </tr>\n",
       "    <tr>\n",
       "      <th>4</th>\n",
       "      <td>2020-10-15</td>\n",
       "      <td>177.928466</td>\n",
       "    </tr>\n",
       "    <tr>\n",
       "      <th>5</th>\n",
       "      <td>2020-10-16</td>\n",
       "      <td>178.677535</td>\n",
       "    </tr>\n",
       "    <tr>\n",
       "      <th>6</th>\n",
       "      <td>2020-10-17</td>\n",
       "      <td>179.426604</td>\n",
       "    </tr>\n",
       "    <tr>\n",
       "      <th>7</th>\n",
       "      <td>2020-10-18</td>\n",
       "      <td>180.175672</td>\n",
       "    </tr>\n",
       "    <tr>\n",
       "      <th>8</th>\n",
       "      <td>2020-10-19</td>\n",
       "      <td>180.924741</td>\n",
       "    </tr>\n",
       "    <tr>\n",
       "      <th>9</th>\n",
       "      <td>2020-10-20</td>\n",
       "      <td>181.673809</td>\n",
       "    </tr>\n",
       "    <tr>\n",
       "      <th>10</th>\n",
       "      <td>2020-10-21</td>\n",
       "      <td>182.422878</td>\n",
       "    </tr>\n",
       "    <tr>\n",
       "      <th>11</th>\n",
       "      <td>2020-10-22</td>\n",
       "      <td>183.171946</td>\n",
       "    </tr>\n",
       "    <tr>\n",
       "      <th>12</th>\n",
       "      <td>2020-10-23</td>\n",
       "      <td>183.921015</td>\n",
       "    </tr>\n",
       "    <tr>\n",
       "      <th>13</th>\n",
       "      <td>2020-10-24</td>\n",
       "      <td>184.670083</td>\n",
       "    </tr>\n",
       "    <tr>\n",
       "      <th>14</th>\n",
       "      <td>2020-10-25</td>\n",
       "      <td>185.419152</td>\n",
       "    </tr>\n",
       "    <tr>\n",
       "      <th>15</th>\n",
       "      <td>2020-10-26</td>\n",
       "      <td>186.168221</td>\n",
       "    </tr>\n",
       "    <tr>\n",
       "      <th>16</th>\n",
       "      <td>2020-10-27</td>\n",
       "      <td>186.917289</td>\n",
       "    </tr>\n",
       "    <tr>\n",
       "      <th>17</th>\n",
       "      <td>2020-10-28</td>\n",
       "      <td>187.666358</td>\n",
       "    </tr>\n",
       "    <tr>\n",
       "      <th>18</th>\n",
       "      <td>2020-10-29</td>\n",
       "      <td>188.415426</td>\n",
       "    </tr>\n",
       "    <tr>\n",
       "      <th>19</th>\n",
       "      <td>2020-10-30</td>\n",
       "      <td>189.164495</td>\n",
       "    </tr>\n",
       "  </tbody>\n",
       "</table>\n",
       "</div>"
      ],
      "text/plain": [
       "          Date  Number of cases\n",
       "0   2020-10-11       174.932192\n",
       "1   2020-10-12       175.681261\n",
       "2   2020-10-13       176.430329\n",
       "3   2020-10-14       177.179398\n",
       "4   2020-10-15       177.928466\n",
       "5   2020-10-16       178.677535\n",
       "6   2020-10-17       179.426604\n",
       "7   2020-10-18       180.175672\n",
       "8   2020-10-19       180.924741\n",
       "9   2020-10-20       181.673809\n",
       "10  2020-10-21       182.422878\n",
       "11  2020-10-22       183.171946\n",
       "12  2020-10-23       183.921015\n",
       "13  2020-10-24       184.670083\n",
       "14  2020-10-25       185.419152\n",
       "15  2020-10-26       186.168221\n",
       "16  2020-10-27       186.917289\n",
       "17  2020-10-28       187.666358\n",
       "18  2020-10-29       188.415426\n",
       "19  2020-10-30       189.164495"
      ]
     },
     "execution_count": 217,
     "metadata": {},
     "output_type": "execute_result"
    }
   ],
   "source": [
    "future_df"
   ]
  },
  {
   "cell_type": "code",
   "execution_count": null,
   "metadata": {},
   "outputs": [],
   "source": []
  }
 ],
 "metadata": {
  "kernelspec": {
   "display_name": "Python 3",
   "language": "python",
   "name": "python3"
  },
  "language_info": {
   "codemirror_mode": {
    "name": "ipython",
    "version": 3
   },
   "file_extension": ".py",
   "mimetype": "text/x-python",
   "name": "python",
   "nbconvert_exporter": "python",
   "pygments_lexer": "ipython3",
   "version": "3.7.9"
  }
 },
 "nbformat": 4,
 "nbformat_minor": 1
}